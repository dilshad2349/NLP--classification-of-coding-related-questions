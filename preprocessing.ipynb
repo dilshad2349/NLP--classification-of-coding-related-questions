{
 "cells": [
  {
   "cell_type": "code",
   "execution_count": 2,
   "metadata": {},
   "outputs": [],
   "source": [
    "import numpy as np\n",
    "import pandas as pd\n",
    "\n"
   ]
  },
  {
   "cell_type": "code",
   "execution_count": 3,
   "metadata": {},
   "outputs": [],
   "source": [
    "# Load the dataset\n",
    "\n",
    "df = pd.read_csv('dataset.csv')"
   ]
  },
  {
   "cell_type": "code",
   "execution_count": 4,
   "metadata": {},
   "outputs": [
    {
     "data": {
      "text/html": [
       "<div>\n",
       "<style scoped>\n",
       "    .dataframe tbody tr th:only-of-type {\n",
       "        vertical-align: middle;\n",
       "    }\n",
       "\n",
       "    .dataframe tbody tr th {\n",
       "        vertical-align: top;\n",
       "    }\n",
       "\n",
       "    .dataframe thead th {\n",
       "        text-align: right;\n",
       "    }\n",
       "</style>\n",
       "<table border=\"1\" class=\"dataframe\">\n",
       "  <thead>\n",
       "    <tr style=\"text-align: right;\">\n",
       "      <th></th>\n",
       "      <th>Title</th>\n",
       "      <th>Body</th>\n",
       "      <th>Tag</th>\n",
       "    </tr>\n",
       "  </thead>\n",
       "  <tbody>\n",
       "    <tr>\n",
       "      <th>0</th>\n",
       "      <td>Make a dynamic GridView to fit screen android</td>\n",
       "      <td>&lt;p&gt;I have a GridView that can contain NxM Cust...</td>\n",
       "      <td>android</td>\n",
       "    </tr>\n",
       "    <tr>\n",
       "      <th>1</th>\n",
       "      <td>image/video processing options</td>\n",
       "      <td>&lt;p&gt;I have a small 12 volt board camera that is...</td>\n",
       "      <td>python</td>\n",
       "    </tr>\n",
       "    <tr>\n",
       "      <th>2</th>\n",
       "      <td>Error while using HttpConnection</td>\n",
       "      <td>&lt;p&gt;&lt;strong&gt;QUESTION&lt;/strong&gt;&lt;/p&gt;\\n\\n&lt;p&gt;I am tr...</td>\n",
       "      <td>java</td>\n",
       "    </tr>\n",
       "    <tr>\n",
       "      <th>3</th>\n",
       "      <td>Marker icon not showing up but is clickable</td>\n",
       "      <td>&lt;p&gt;I've got the following code which gets info...</td>\n",
       "      <td>android</td>\n",
       "    </tr>\n",
       "    <tr>\n",
       "      <th>4</th>\n",
       "      <td>Swift - Trouble with SKAction sequence</td>\n",
       "      <td>&lt;p&gt;I'm trying to move my background image down...</td>\n",
       "      <td>ios</td>\n",
       "    </tr>\n",
       "  </tbody>\n",
       "</table>\n",
       "</div>"
      ],
      "text/plain": [
       "                                           Title  \\\n",
       "0  Make a dynamic GridView to fit screen android   \n",
       "1                 image/video processing options   \n",
       "2               Error while using HttpConnection   \n",
       "3    Marker icon not showing up but is clickable   \n",
       "4         Swift - Trouble with SKAction sequence   \n",
       "\n",
       "                                                Body      Tag  \n",
       "0  <p>I have a GridView that can contain NxM Cust...  android  \n",
       "1  <p>I have a small 12 volt board camera that is...   python  \n",
       "2  <p><strong>QUESTION</strong></p>\\n\\n<p>I am tr...     java  \n",
       "3  <p>I've got the following code which gets info...  android  \n",
       "4  <p>I'm trying to move my background image down...      ios  "
      ]
     },
     "execution_count": 4,
     "metadata": {},
     "output_type": "execute_result"
    }
   ],
   "source": [
    "# Display the first few rows of the dataset\n",
    "\n",
    "df.head()"
   ]
  },
  {
   "cell_type": "code",
   "execution_count": 5,
   "metadata": {},
   "outputs": [
    {
     "data": {
      "text/plain": [
       "(22164, 3)"
      ]
     },
     "execution_count": 5,
     "metadata": {},
     "output_type": "execute_result"
    }
   ],
   "source": [
    "# Display the shape of the dataset\n",
    "\n",
    "df.shape"
   ]
  },
  {
   "cell_type": "code",
   "execution_count": 6,
   "metadata": {},
   "outputs": [
    {
     "name": "stdout",
     "output_type": "stream",
     "text": [
      "<class 'pandas.core.frame.DataFrame'>\n",
      "RangeIndex: 22164 entries, 0 to 22163\n",
      "Data columns (total 3 columns):\n",
      " #   Column  Non-Null Count  Dtype \n",
      "---  ------  --------------  ----- \n",
      " 0   Title   22164 non-null  object\n",
      " 1   Body    22164 non-null  object\n",
      " 2   Tag     22164 non-null  object\n",
      "dtypes: object(3)\n",
      "memory usage: 519.6+ KB\n"
     ]
    }
   ],
   "source": [
    "# Display basic information about the dataset\n",
    "\n",
    "df.info()\n"
   ]
  },
  {
   "cell_type": "code",
   "execution_count": 7,
   "metadata": {},
   "outputs": [
    {
     "data": {
      "text/plain": [
       "Title    0\n",
       "Body     0\n",
       "Tag      0\n",
       "dtype: int64"
      ]
     },
     "execution_count": 7,
     "metadata": {},
     "output_type": "execute_result"
    }
   ],
   "source": [
    "# Display the count of missing values in each column\n",
    "df.isna().sum()\n"
   ]
  },
  {
   "cell_type": "code",
   "execution_count": 8,
   "metadata": {},
   "outputs": [
    {
     "data": {
      "text/plain": [
       "Tag\n",
       "javascript    3272\n",
       "java          3115\n",
       "c#            2723\n",
       "php           2680\n",
       "android       2498\n",
       "jquery        2099\n",
       "python        1726\n",
       "html          1527\n",
       "c++           1298\n",
       "ios           1226\n",
       "Name: count, dtype: int64"
      ]
     },
     "execution_count": 8,
     "metadata": {},
     "output_type": "execute_result"
    }
   ],
   "source": [
    "# Display the count of each unique value in the 'Tag' column\n",
    "\n",
    "df['Tag'].value_counts()\n"
   ]
  },
  {
   "cell_type": "code",
   "execution_count": 9,
   "metadata": {},
   "outputs": [
    {
     "data": {
      "image/png": "iVBORw0KGgoAAAANSUhEUgAAA1sAAAJZCAYAAABfgy+6AAAAOXRFWHRTb2Z0d2FyZQBNYXRwbG90bGliIHZlcnNpb24zLjkuMCwgaHR0cHM6Ly9tYXRwbG90bGliLm9yZy80BEi2AAAACXBIWXMAAA9hAAAPYQGoP6dpAABcK0lEQVR4nO3deXxNd+L/8XdEEksWIZJQkVhqFxTV0Bp7VGopXShFLR0VGVtRM7XWt0qLbsp0ITpjazu20tKIrWKtEfteRJHYGiHViOT8/vDLnV5JVCLHuZHX8/G4j0fuOZ/c+z5HInnnnPM5ToZhGAIAAAAA5KlCVgcAAAAAgIcRZQsAAAAATEDZAgAAAAATULYAAAAAwASULQAAAAAwAWULAAAAAExA2QIAAAAAE1C2AAAAAMAElC0AAAAAMAFlCwCQpVOnTsnJyUmRkZGmv1dkZKScnJx06tQp27KgoCA988wzpr+3JG3YsEFOTk7asGHDA3m/O6Wnp6tWrVr6v//7P0ve3wrjx4+Xk5OT3bKgoCD17t3b1PddvXq13N3ddfHiRVPfBwAkyhYAmMrJyemeHg/il/w/vl/hwoVVsmRJ1a9fX4MHD9bBgwfz7H0++eSTB1LQcsNRsy1cuFBnzpzRoEGDslz/ySefyMnJSY0aNXrAyR4+bdu2VeXKlTV58mSrowAoAJwMwzCsDgEAD6t///vfds+//PJLRUVF6V//+pfd8tatW8vPz8/ULE5OTmrdurV69uwpwzB09epV7dmzR19//bWSk5M1ZcoUDRs2zDbeMAylpKTIxcVFzs7O9/w+tWrVko+PT44KZFpamlJTU+Xm5mY72hEUFKRatWpp5cqV9/w6uc2Wnp6umzdvytXVVYUKPfi/Q9atW1eNGjXSP//5zyzXN2nSROfOndOpU6d07NgxVa5c+QEnzHvjx4/XhAkT9MdfQ1JSUlSoUCG5uLiY+t6zZs3S66+/rvj4eHl4eJj6XgAKtsJWBwCAh1mPHj3snm/btk1RUVGZlj8oVapUyfTe77zzjtq3b6/hw4erWrVqateunaTb5axIkSKm5klOTlbx4sXl7Oyco0KX1woVKmT6tmZn9+7d2rNnj6ZNm5bl+pMnT2rLli1asmSJ/vrXv2r+/PkaN27cA075YLi5uT2Q9+nSpYsiIiL09ddfq0+fPg/kPQEUTJxGCAAWmzt3rlq0aCFfX1+5ubmpRo0amjVrVqZx6enpGj9+vMqWLatixYqpefPmOnjw4H1f51KqVCktWrRIhQsXtrtmKKtrtuLj4/XKK6+oXLlycnNzU5kyZdSxY0fbtVZBQUE6cOCANm7caDtlsVmzZpL+d13Wxo0bNXDgQPn6+qpcuXJ26/54zVaGH374QXXr1lWRIkVUo0YNLVmyxG59Vtf+ZPWad8uW3TVbX3/9terXr6+iRYvKx8dHPXr00NmzZ+3G9O7dW+7u7jp79qw6deokd3d3lS5dWq+//rrS0tL+ZO9Ly5Ytk6urq5o2bZrl+vnz58vb21thYWF67rnnNH/+/CzHLVq0SPXr15eHh4c8PT1Vu3ZtffDBB3ZjEhMTNXToUAUFBcnNzU3lypVTz549denSJduYlJQUjRs3TpUrV5abm5sCAgI0cuRIpaSk2L2Wk5OTBg0apGXLlqlWrVpyc3NTzZo1tXr16kzZNm/erIYNG6pIkSKqVKlStkfw7vxazvg3jImJ0bBhw1S6dGkVL15czz77bKZrrnLy/eHr66vg4GAtX748yxwAkFc4sgUAFps1a5Zq1qypDh06qHDhwvr22281cOBApaenKzw83DZu9OjRmjp1qtq3b6/Q0FDt2bNHoaGh+v333+87Q/ny5fWXv/xF69evV1JSkjw9PbMc16VLFx04cEAREREKCgrShQsXFBUVpbi4OAUFBen9999XRESE3N3d9Y9//EOSMp0eOXDgQJUuXVpjx45VcnLyXXMdO3ZML774ogYMGKBevXpp7ty5ev7557V69Wq1bt06R9t4L9n+KDIyUq+88ooaNmyoyZMnKyEhQR988IFiYmK0e/dulShRwjY2LS1NoaGhatSokd577z2tXbtW06ZNU6VKlfTaa6/dNdeWLVtUq1atbE+dmz9/vjp37ixXV1d169ZNs2bN0s6dO9WwYUPbmKioKHXr1k0tW7bUlClTJEmHDh1STEyMBg8eLEm6fv26nnrqKR06dEh9+vTRY489pkuXLmnFihX65Zdf5OPjo/T0dHXo0EGbN2/Wq6++qurVq2vfvn2aMWOGjh49qmXLltll27x5s5YsWaKBAwfKw8NDH374obp06aK4uDiVKlVKkrRv3z61adNGpUuX1vjx43Xr1i2NGzcuR6fNRkREyNvbW+PGjdOpU6f0/vvva9CgQVq8eLFtTE6/P+rXr59pewAgzxkAgAcmPDzcuPO/3t9++y3TuNDQUKNixYq25/Hx8UbhwoWNTp062Y0bP368Icno1avXn763JCM8PDzb9YMHDzYkGXv27DEMwzBOnjxpSDLmzp1rGIZh/Prrr4Yk4913373r+9SsWdP4y1/+kmn53LlzDUnGk08+ady6dSvLdSdPnrQtCwwMNCQZ//nPf2zLrl69apQpU8aoV6+ebdm4ceMy7dPsXjO7bOvXrzckGevXrzcMwzBu3rxp+Pr6GrVq1TJu3LhhG7dy5UpDkjF27Fjbsl69ehmSjIkTJ9q9Zr169Yz69etneq87lStXzujSpUuW63766SdDkhEVFWUYhmGkp6cb5cqVMwYPHmw3bvDgwYanp2em/fpHY8eONSQZS5YsybQuPT3dMAzD+Ne//mUUKlTI+PHHH+3Wz54925BkxMTE2JZJMlxdXY3jx4/blu3Zs8eQZHz00Ue2ZZ06dTKKFClinD592rbs4MGDhrOzc6Z/t8DAQLuv5Yx/w1atWtkyGoZhDB061HB2djYSExMNw8jd98fbb79tSDISEhIyrQOAvMJphABgsaJFi9o+vnr1qi5duqS//OUv+vnnn3X16lVJUnR0tG7duqWBAwfafW5ERESe5XB3d5ckXbt2Lducrq6u2rBhg3799ddcv0///v3v+fqssmXL6tlnn7U99/T0VM+ePbV7927Fx8fnOsOf+emnn3ThwgUNHDjQ7lqusLAwVatWTatWrcr0OQMGDLB7/tRTT+nnn3/+0/e6fPmyvL29s1w3f/58+fn5qXnz5pJun7r34osvatGiRXanKJYoUULJycmKiorK9n3+85//qE6dOnb7M0PGaZhff/21qlevrmrVqunSpUu2R4sWLSRJ69evt/u8Vq1aqVKlSrbnwcHB8vT0tG13Wlqa1qxZo06dOql8+fK2cdWrV1doaOhd98sfvfrqq3anij711FNKS0vT6dOnJeXu+yNjn//xFEoAyGuULQCwWExMjFq1aqXixYurRIkSKl26tP7+979Lkq1sZfxSeecsdCVLlsz2F/Wcun79uiRlOzubm5ubpkyZou+//15+fn5q2rSppk6dmuPSU6FChXseW7ly5UzXY1WpUkWSsry+K69k7O+qVatmWletWjXb+gxFihRR6dKl7ZZ5e3vfcyk1spgYOC0tTYsWLVLz5s118uRJHT9+XMePH1ejRo2UkJCg6Oho29iBAweqSpUqevrpp1WuXDn16dMn07VTJ06cUK1ate6a49ixYzpw4IBKly5t98jY5xcuXLAb/8cCldV2X7x4UTdu3NCjjz6aaVxW+zY7d75Pxtd8xvvk5vsjY59ndb0fAOQVrtkCAAudOHFCLVu2VLVq1TR9+nQFBATI1dVV3333nWbMmKH09PQHlmX//v1ydna+axkaMmSI2rdvr2XLlmnNmjUaM2aMJk+erHXr1qlevXr39D5/PJKXF7L7ZfleJqfIK/czk2KpUqWyLGXr1q3T+fPntWjRIi1atCjT+vnz56tNmzaSbk/4EBsbqzVr1uj777/X999/r7lz56pnz56aN2/ePWdJT09X7dq1NX369CzXBwQE2D3PbruzKo/3w4z3ydjnPj4+uX4NAPgzlC0AsNC3336rlJQUrVixwu6v93eerhUYGChJOn78uF0Zunz58n2d0pchLi5OGzduVEhIyJ/ed6hSpUoaPny4hg8frmPHjqlu3bqaNm2a7Z5ieXmk4Pjx4zIMw+41jx49Kun2zHXS/45yJCYm2k1acefRp5xky9jfR44csZ1Cl+HIkSO29XmhWrVqOnnyZKbl8+fPl6+vr2bOnJlp3ZIlS7R06VLNnj3bVl5dXV3Vvn17tW/fXunp6Ro4cKD++c9/asyYMapcubIqVaqk/fv33zVLpUqVtGfPHrVs2TJP/h1Lly6tokWL6tixY5nWHTly5L5fP0Nuvj9OnjwpHx+fTEckASAvcRohAFgo4y/2f/wL/dWrVzV37ly7cS1btlThwoUzTQn/8ccf33eGK1euqFu3bkpLS7PN0peV3377LdPMbpUqVZKHh4fdtODFixdXYmLifeeSpHPnzmnp0qW250lJSfryyy9Vt25d+fv72zJI0qZNm2zjkpOTszyic6/ZGjRoIF9fX82ePdtu277//nsdOnRIYWFhud2kTEJCQrR//36797lx44aWLFmiZ555Rs8991ymx6BBg3Tt2jWtWLFC0u1S8UeFChVScHCwJNlet0uXLtqzZ4/d/syQ8fX3wgsv6OzZs/rss88yjblx48afzh55J2dnZ4WGhmrZsmWKi4uzLT906JDWrFmTo9e6m9x8f+zatUshISF5lgEAssKRLQCwUJs2bWxHJP7617/q+vXr+uyzz+Tr66vz58/bxvn5+Wnw4MGaNm2aOnTooLZt22rPnj36/vvv5ePjc89HIY4ePap///vfMgxDSUlJ2rNnj77++mtdv35d06dPV9u2be/6uS1bttQLL7ygGjVqqHDhwlq6dKkSEhLUtWtX27j69etr1qxZmjRpkipXrixfX99MR4fuVZUqVdS3b1/t3LlTfn5+mjNnjhISEuzKaJs2bVS+fHn17dtXI0aMkLOzs+bMmaPSpUvb/YKfk2wuLi6aMmWKXnnlFf3lL39Rt27dbFO/BwUFaejQobnanqx07NhRb731ljZu3Gg7LXDFihW6du2aOnTokOXnPPHEEypdurTmz5+vF198Uf369dOVK1fUokULlStXTqdPn9ZHH32kunXrqnr16pKkESNG6JtvvtHzzz+vPn36qH79+rpy5YpWrFih2bNnq06dOnr55Zf11VdfacCAAVq/fr2aNGmitLQ0HT58WF999ZXWrFmjBg0a5Gj7JkyYoNWrV+upp57SwIEDdevWLX300UeqWbOm9u7de3877//L6ffHhQsXtHfvXrtbKwCAKaybCBEACp6spn5fsWKFERwcbBQpUsQICgoypkyZYsyZMyfTtOW3bt0yxowZY/j7+xtFixY1WrRoYRw6dMgoVaqUMWDAgD99b0m2R6FChYwSJUoY9erVMwYPHmwcOHAg0/g7p36/dOmSER4eblSrVs0oXry44eXlZTRq1Mj46quv7D4vPj7eCAsLMzw8PAxJtqnWM6bx3rlzZ6b3ym7q97CwMGPNmjVGcHCw4ebmZlSrVs34+uuvM33+rl27jEaNGhmurq5G+fLljenTp2f5mtllu3Pq9wyLFy826tWrZ7i5uRklS5Y0unfvbvzyyy92Y3r16mUUL148U6bspqTPSnBwsNG3b1/b8/bt2xtFihQxkpOTs/2c3r17Gy4uLsalS5eMb775xmjTpo3h6+tr2wd//etfjfPnz9t9zuXLl41BgwYZjzzyiOHq6mqUK1fO6NWrl3Hp0iXbmJs3bxpTpkwxatasabi5uRne3t5G/fr1jQkTJhhXr161jVM2txK4c/p2wzCMjRs3GvXr1zdcXV2NihUrGrNnz85y/2Q39fudXzNZ/Xvl5Ptj1qxZRrFixYykpKRs9y8A5AUnw8jjq1gBAA9MYmKivL29NWnSpLueAgjH9q9//Uvh4eGKi4uzu+4M9ye774969eqpWbNmmjFjhoXpABQEXLMFAPnEjRs3Mi17//33JUnNmjV7sGGQp7p3767y5ctnORkG7s29fn+sXr1ax44d0+jRox9QMgAFGUe2ACCfiIyMVGRkpNq1ayd3d3dt3rxZCxcuVJs2bfJ0sgEgP+L7A4AjYoIMAMgngoODVbhwYU2dOlVJSUm2SQEmTZpkdTTAcnx/AHBEHNkCAAAAABNwzRYAAAAAmIDTCO9Benq6zp07Jw8Pj3u+lw0AAACAh49hGLp27ZrKli2rQoXufuyKsnUPzp07p4CAAKtjAAAAAHAQZ86cUbly5e46hrJ1Dzw8PCTd3qGenp4WpwEAAABglaSkJAUEBNg6wt1Qtu5BxqmDnp6elC0AAAAA93R5ERNkAAAAAIAJKFsAAAAAYALKFgAAAACYgLIFAAAAACagbAEAAACACShbAAAAAGACyhYAAAAAmICyBQAAAAAmoGwBAAAAgAkoWwAAAABgAsoWAAAAAJiAsgUAAAAAJqBsAQAAAIAJKFsAAAAAYALKFgAAAACYgLIFAAAAACagbAEAAACACShbAAAAAGACyhYAAAAAmKCw1QEAAAAAPByC3lhldYRsnXon7IG/J0e2AAAAAMAElC0AAAAAMAFlCwAAAABMQNkCAAAAABNQtgAAAADABJQtAAAAADABZQsAAAAATEDZAgAAAAATULYAAAAAwASULQAAAAAwAWULAAAAAExA2QIAAAAAE1C2AAAAAMAElC0AAAAAMAFlCwAAAABMQNkCAAAAABNQtgAAAADABJQtAAAAADABZQsAAAAATEDZAgAAAAATULYAAAAAwASFrQ4AAAAAOKKgN1ZZHSFbp94JszoC7gFHtgAAAADABJQtAAAAADABZQsAAAAATEDZAgAAAAATULYAAAAAwASULQAAAAAwAWULAAAAAExA2QIAAAAAE1C2AAAAAMAElC0AAAAAMIGlZWvWrFkKDg6Wp6enPD09FRISou+//962/vfff1d4eLhKlSold3d3denSRQkJCXavERcXp7CwMBUrVky+vr4aMWKEbt26ZTdmw4YNeuyxx+Tm5qbKlSsrMjLyQWweAAAAgALM0rJVrlw5vfPOO9q1a5d++ukntWjRQh07dtSBAwckSUOHDtW3336rr7/+Whs3btS5c+fUuXNn2+enpaUpLCxMN2/e1JYtWzRv3jxFRkZq7NixtjEnT55UWFiYmjdvrtjYWA0ZMkT9+vXTmjVrHvj2AgAAACg4nAzDMKwO8UclS5bUu+++q+eee06lS5fWggUL9Nxzz0mSDh8+rOrVq2vr1q164okn9P333+uZZ57RuXPn5OfnJ0maPXu2Ro0apYsXL8rV1VWjRo3SqlWrtH//ftt7dO3aVYmJiVq9evU9ZUpKSpKXl5euXr0qT0/PvN9oAAAAOJygN1ZZHSFbp94JszpClgrCPstJN3CYa7bS0tK0aNEiJScnKyQkRLt27VJqaqpatWplG1OtWjWVL19eW7dulSRt3bpVtWvXthUtSQoNDVVSUpLt6NjWrVvtXiNjTMZrZCUlJUVJSUl2DwAAAADICcvL1r59++Tu7i43NzcNGDBAS5cuVY0aNRQfHy9XV1eVKFHCbryfn5/i4+MlSfHx8XZFK2N9xrq7jUlKStKNGzeyzDR58mR5eXnZHgEBAXmxqQAAAAAKEMvLVtWqVRUbG6vt27frtddeU69evXTw4EFLM40ePVpXr161Pc6cOWNpHgAAAAD5T2GrA7i6uqpy5cqSpPr162vnzp364IMP9OKLL+rmzZtKTEy0O7qVkJAgf39/SZK/v7927Nhh93oZsxX+ccydMxgmJCTI09NTRYsWzTKTm5ub3Nzc8mT7AAAAABRMlh/ZulN6erpSUlJUv359ubi4KDo62rbuyJEjiouLU0hIiCQpJCRE+/bt04ULF2xjoqKi5OnpqRo1atjG/PE1MsZkvAYAAAAAmMHSI1ujR4/W008/rfLly+vatWtasGCBNmzYoDVr1sjLy0t9+/bVsGHDVLJkSXl6eioiIkIhISF64oknJElt2rRRjRo19PLLL2vq1KmKj4/Xm2++qfDwcNuRqQEDBujjjz/WyJEj1adPH61bt05fffWVVq1y3JlSAAAAAOR/lpatCxcuqGfPnjp//ry8vLwUHBysNWvWqHXr1pKkGTNmqFChQurSpYtSUlIUGhqqTz75xPb5zs7OWrlypV577TWFhISoePHi6tWrlyZOnGgbU6FCBa1atUpDhw7VBx98oHLlyunzzz9XaGjoA99eAAAAAAWHw91nyxFxny0AAICCpyDcMyqvFYR9li/vswUAAAAADxPKFgAAAACYgLIFAAAAACagbAEAAACACShbAAAAAGACyhYAAAAAmICyBQAAAAAmoGwBAAAAgAkoWwAAAABgAsoWAAAAAJiAsgUAAAAAJqBsAQAAAIAJKFsAAAAAYALKFgAAAACYgLIFAAAAACagbAEAAACACShbAAAAAGACyhYAAAAAmICyBQAAAAAmoGwBAAAAgAkoWwAAAABgAsoWAAAAAJiAsgUAAAAAJqBsAQAAAIAJKFsAAAAAYALKFgAAAACYgLIFAAAAACagbAEAAACACShbAAAAAGACyhYAAAAAmKCw1QEAAABgrqA3VlkdIVun3gmzOgJgGo5sAQAAAIAJKFsAAAAAYALKFgAAAACYgLIFAAAAACagbAEAAACACZiNEAAA5CvMrAcgv+DIFgAAAACYgLIFAAAAACagbAEAAACACShbAAAAAGACyhYAAAAAmICyBQAAAAAmoGwBAAAAgAkoWwAAAABgAsoWAAAAAJiAsgUAAAAAJqBsAQAAAIAJKFsAAAAAYALKFgAAAACYgLIFAAAAACagbAEAAACACShbAAAAAGACyhYAAAAAmICyBQAAAAAmoGwBAAAAgAkoWwAAAABgAkvL1uTJk9WwYUN5eHjI19dXnTp10pEjR+zGNGvWTE5OTnaPAQMG2I2Ji4tTWFiYihUrJl9fX40YMUK3bt2yG7NhwwY99thjcnNzU+XKlRUZGWn25gEAAAAowCwtWxs3blR4eLi2bdumqKgopaamqk2bNkpOTrYb179/f50/f972mDp1qm1dWlqawsLCdPPmTW3ZskXz5s1TZGSkxo4daxtz8uRJhYWFqXnz5oqNjdWQIUPUr18/rVmz5oFtKwAAAICCpbCVb7569Wq755GRkfL19dWuXbvUtGlT2/JixYrJ398/y9f44YcfdPDgQa1du1Z+fn6qW7eu3nrrLY0aNUrjx4+Xq6urZs+erQoVKmjatGmSpOrVq2vz5s2aMWOGQkNDM71mSkqKUlJSbM+TkpLyYnMBAAAAFCAOdc3W1atXJUklS5a0Wz5//nz5+PioVq1aGj16tH777Tfbuq1bt6p27dry8/OzLQsNDVVSUpIOHDhgG9OqVSu71wwNDdXWrVuzzDF58mR5eXnZHgEBAXmyfQAAAAAKDkuPbP1Renq6hgwZoiZNmqhWrVq25S+99JICAwNVtmxZ7d27V6NGjdKRI0e0ZMkSSVJ8fLxd0ZJkex4fH3/XMUlJSbpx44aKFi1qt2706NEaNmyY7XlSUhKFCwCQ54LeWGV1hGydeifM6ggAkO85TNkKDw/X/v37tXnzZrvlr776qu3j2rVrq0yZMmrZsqVOnDihSpUqmZLFzc1Nbm5uprw2AAAAgILBIU4jHDRokFauXKn169erXLlydx3bqFEjSdLx48clSf7+/kpISLAbk/E84zqv7MZ4enpmOqoFAAAAAHnB0rJlGIYGDRqkpUuXat26dapQocKffk5sbKwkqUyZMpKkkJAQ7du3TxcuXLCNiYqKkqenp2rUqGEbEx0dbfc6UVFRCgkJyaMtAQAAAAB7lpat8PBw/fvf/9aCBQvk4eGh+Ph4xcfH68aNG5KkEydO6K233tKuXbt06tQprVixQj179lTTpk0VHBwsSWrTpo1q1Kihl19+WXv27NGaNWv05ptvKjw83HYq4IABA/Tzzz9r5MiROnz4sD755BN99dVXGjp0qGXbDgAAAODhZmnZmjVrlq5evapmzZqpTJkytsfixYslSa6urlq7dq3atGmjatWqafjw4erSpYu+/fZb22s4Oztr5cqVcnZ2VkhIiHr06KGePXtq4sSJtjEVKlTQqlWrFBUVpTp16mjatGn6/PPPs5z2HQAAAADygqUTZBiGcdf1AQEB2rhx45++TmBgoL777ru7jmnWrJl2796do3wAAAAAkFsOMUEGAAAAADxsKFsAAAAAYALKFgAAAACYgLIFAAAAACagbAEAAACACShbAAAAAGACyhYAAAAAmICyBQAAAAAmoGwBAAAAgAkoWwAAAABgAsoWAAAAAJiAsgUAAAAAJqBsAQAAAIAJKFsAAAAAYALKFgAAAACYgLIFAAAAACagbAEAAACACShbAAAAAGACyhYAAAAAmICyBQAAAAAmoGwBAAAAgAkoWwAAAABgAsoWAAAAAJiAsgUAAAAAJqBsAQAAAIAJKFsAAAAAYALKFgAAAACYgLIFAAAAACagbAEAAACACShbAAAAAGACyhYAAAAAmICyBQAAAAAmoGwBAAAAgAkoWwAAAABgAsoWAAAAAJiAsgUAAAAAJqBsAQAAAIAJKFsAAAAAYALKFgAAAACYgLIFAAAAACagbAEAAACACShbAAAAAGACyhYAAAAAmICyBQAAAAAmoGwBAAAAgAkoWwAAAABggsJWBwAAPByC3lhldYRsnXonzOoIAIACiCNbAAAAAGACyhYAAAAAmICyBQAAAAAmoGwBAAAAgAkoWwAAAABgAsoWAAAAAJiAsgUAAAAAJqBsAQAAAIAJKFsAAAAAYAJLy9bkyZPVsGFDeXh4yNfXV506ddKRI0fsxvz+++8KDw9XqVKl5O7uri5duighIcFuTFxcnMLCwlSsWDH5+vpqxIgRunXrlt2YDRs26LHHHpObm5sqV66syMhIszcPAAAAQAFmadnauHGjwsPDtW3bNkVFRSk1NVVt2rRRcnKybczQoUP17bff6uuvv9bGjRt17tw5de7c2bY+LS1NYWFhunnzprZs2aJ58+YpMjJSY8eOtY05efKkwsLC1Lx5c8XGxmrIkCHq16+f1qxZ80C3FwAAAEDBUdjKN1+9erXd88jISPn6+mrXrl1q2rSprl69qi+++EILFixQixYtJElz585V9erVtW3bNj3xxBP64YcfdPDgQa1du1Z+fn6qW7eu3nrrLY0aNUrjx4+Xq6urZs+erQoVKmjatGmSpOrVq2vz5s2aMWOGQkNDH/h2AwAAAHj4OdQ1W1evXpUklSxZUpK0a9cupaamqlWrVrYx1apVU/ny5bV161ZJ0tatW1W7dm35+fnZxoSGhiopKUkHDhywjfnja2SMyXiNO6WkpCgpKcnuAQAAAAA54TBlKz09XUOGDFGTJk1Uq1YtSVJ8fLxcXV1VokQJu7F+fn6Kj4+3jflj0cpYn7HubmOSkpJ048aNTFkmT54sLy8v2yMgICBPthEAAABAweEwZSs8PFz79+/XokWLrI6i0aNH6+rVq7bHmTNnrI4EAAAAIJ+x9JqtDIMGDdLKlSu1adMmlStXzrbc399fN2/eVGJiot3RrYSEBPn7+9vG7Nixw+71MmYr/OOYO2cwTEhIkKenp4oWLZopj5ubm9zc3PJk2wAAAAAUTJYe2TIMQ4MGDdLSpUu1bt06VahQwW59/fr15eLioujoaNuyI0eOKC4uTiEhIZKkkJAQ7du3TxcuXLCNiYqKkqenp2rUqGEb88fXyBiT8RoAAAAAkNcsPbIVHh6uBQsWaPny5fLw8LBdY+Xl5aWiRYvKy8tLffv21bBhw1SyZEl5enoqIiJCISEheuKJJyRJbdq0UY0aNfTyyy9r6tSpio+P15tvvqnw8HDb0akBAwbo448/1siRI9WnTx+tW7dOX331lVatWmXZtgMAAAB4uFl6ZGvWrFm6evWqmjVrpjJlytgeixcvto2ZMWOGnnnmGXXp0kVNmzaVv7+/lixZYlvv7OyslStXytnZWSEhIerRo4d69uypiRMn2sZUqFBBq1atUlRUlOrUqaNp06bp888/Z9p3AAAAAKax9MiWYRh/OqZIkSKaOXOmZs6cme2YwMBAfffdd3d9nWbNmmn37t05zggAAAAAueEwsxECAAAAwMOEsgUAAAAAJqBsAQAAAIAJKFsAAAAAYALKFgAAAACYgLIFAAAAACagbAEAAACACShbAAAAAGACyhYAAAAAmICyBQAAAAAmoGwBAAAAgAkoWwAAAABgAsoWAAAAAJggV2WrYsWKunz5cqbliYmJqlix4n2HAgAAAID8Lldl69SpU0pLS8u0PCUlRWfPnr3vUAAAAACQ3xXOyeAVK1bYPl6zZo28vLxsz9PS0hQdHa2goKA8CwcAAAAA+VWOylanTp0kSU5OTurVq5fdOhcXFwUFBWnatGl5Fg4AAAAA8qscla309HRJUoUKFbRz5075+PiYEgoAAAAA8rscla0MJ0+ezOscAAAAAPBQyVXZkqTo6GhFR0frwoULtiNeGebMmXPfwQAAAAAgP8tV2ZowYYImTpyoBg0aqEyZMnJycsrrXAAAAACQr+WqbM2ePVuRkZF6+eWX8zoPAAAAADwUcnWfrZs3b6px48Z5nQUAAAAAHhq5Klv9+vXTggUL8joLAAAAADw0cnUa4e+//65PP/1Ua9euVXBwsFxcXOzWT58+PU/CAQAAAEB+lauytXfvXtWtW1eStH//frt1TJYBAAAAALksW+vXr8/rHAAAAADwUMnVNVsAAAAAgLvL1ZGt5s2b3/V0wXXr1uU6EAAAAAA8DHJVtjKu18qQmpqq2NhY7d+/X7169cqLXABgmaA3VlkdIVun3gmzOgIAALhHuSpbM2bMyHL5+PHjdf369fsKBAAAAAAPgzy9ZqtHjx6aM2dOXr4kAAAAAORLeVq2tm7dqiJFiuTlSwIAAABAvpSr0wg7d+5s99wwDJ0/f14//fSTxowZkyfBAAAAACA/y1XZ8vLysnteqFAhVa1aVRMnTlSbNm3yJBgAAAAA5Ge5Kltz587N6xwAAAAA8FDJVdnKsGvXLh06dEiSVLNmTdWrVy9PQgEAAABAfpersnXhwgV17dpVGzZsUIkSJSRJiYmJat68uRYtWqTSpUvnZUYAAAAAyHdyNRthRESErl27pgMHDujKlSu6cuWK9u/fr6SkJP3tb3/L64wAAAAAkO/k6sjW6tWrtXbtWlWvXt22rEaNGpo5cyYTZAAAAACAcnlkKz09XS4uLpmWu7i4KD09/b5DAQAAAEB+l6uy1aJFCw0ePFjnzp2zLTt79qyGDh2qli1b5lk4AAAAAMivclW2Pv74YyUlJSkoKEiVKlVSpUqVVKFCBSUlJemjjz7K64wAAAAAkO/k6pqtgIAA/fe//9XatWt1+PBhSVL16tXVqlWrPA0HAAAAAPlVjo5srVu3TjVq1FBSUpKcnJzUunVrRUREKCIiQg0bNlTNmjX1448/mpUVAAAAAPKNHJWt999/X/3795enp2emdV5eXvrrX/+q6dOn51k4AAAAAMivclS29uzZo7Zt22a7vk2bNtq1a9d9hwIAAACA/C5HZSshISHLKd8zFC5cWBcvXrzvUAAAAACQ3+WobD3yyCPav39/tuv37t2rMmXK3HcoAAAAAMjvclS22rVrpzFjxuj333/PtO7GjRsaN26cnnnmmTwLBwAAAAD5VY6mfn/zzTe1ZMkSValSRYMGDVLVqlUlSYcPH9bMmTOVlpamf/zjH6YEBQAAAID8JEdly8/PT1u2bNFrr72m0aNHyzAMSZKTk5NCQ0M1c+ZM+fn5mRIUAAAAAPKTHN/UODAwUN99951+/fVXHT9+XIZh6NFHH5W3t7cZ+QAAAAAgX8px2crg7e2thg0b5mUWAAAAAHho5GiCDAAAAADAvaFsAQAAAIAJcn0aYV7YtGmT3n33Xe3atUvnz5/X0qVL1alTJ9v63r17a968eXafExoaqtWrV9ueX7lyRREREfr2229VqFAhdenSRR988IHc3d1tY/bu3avw8HDt3LlTpUuXVkREhEaOHGn69gGOIOiNVVZHyNapd8KsjgAAAGAaS49sJScnq06dOpo5c2a2Y9q2bavz58/bHgsXLrRb3717dx04cEBRUVFauXKlNm3apFdffdW2PikpSW3atFFgYKB27dqld999V+PHj9enn35q2nYBAAAAgKVHtp5++mk9/fTTdx3j5uYmf3//LNcdOnRIq1ev1s6dO9WgQQNJ0kcffaR27drpvffeU9myZTV//nzdvHlTc+bMkaurq2rWrKnY2FhNnz7drpQBAAAAQF5y+Gu2NmzYIF9fX1WtWlWvvfaaLl++bFu3detWlShRwla0JKlVq1YqVKiQtm/fbhvTtGlTubq62saEhobqyJEj+vXXX7N8z5SUFCUlJdk9AAAAACAnHLpstW3bVl9++aWio6M1ZcoUbdy4UU8//bTS0tIkSfHx8fL19bX7nMKFC6tkyZKKj4+3jbnzRssZzzPG3Gny5Mny8vKyPQICAvJ60wAAAAA85Cw9jfDPdO3a1fZx7dq1FRwcrEqVKmnDhg1q2bKlae87evRoDRs2zPY8KSmJwgUAAAAgRxz6yNadKlasKB8fHx0/flyS5O/vrwsXLtiNuXXrlq5cuWK7zsvf318JCQl2YzKeZ3ctmJubmzw9Pe0eAAAAAJAT+aps/fLLL7p8+bLKlCkjSQoJCVFiYqJ27dplG7Nu3Tqlp6erUaNGtjGbNm1SamqqbUxUVJSqVq0qb2/vB7sBAAAAAAoMS8vW9evXFRsbq9jYWEnSyZMnFRsbq7i4OF2/fl0jRozQtm3bdOrUKUVHR6tjx46qXLmyQkNDJUnVq1dX27Zt1b9/f+3YsUMxMTEaNGiQunbtqrJly0qSXnrpJbm6uqpv3746cOCAFi9erA8++MDuNEEAAAAAyGuWlq2ffvpJ9erVU7169SRJw4YNU7169TR27Fg5Oztr79696tChg6pUqaK+ffuqfv36+vHHH+Xm5mZ7jfnz56tatWpq2bKl2rVrpyeffNLuHlpeXl764YcfdPLkSdWvX1/Dhw/X2LFjmfYdAAAAgKksnSCjWbNmMgwj2/Vr1qz509coWbKkFixYcNcxwcHB+vHHH3OcDwAAAAByK19dswUAAAAA+QVlCwAAAABMQNkCAAAAABNQtgAAAADABJQtAAAAADABZQsAAAAATEDZAgAAAAATULYAAAAAwASULQAAAAAwAWULAAAAAExA2QIAAAAAE1C2AAAAAMAElC0AAAAAMAFlCwAAAABMQNkCAAAAABNQtgAAAADABJQtAAAAADABZQsAAAAATEDZAgAAAAATULYAAAAAwASFrQ4A3KugN1ZZHSFbp94JszoCAAAAHAxHtgAAAADABJQtAAAAADABZQsAAAAATEDZAgAAAAATULYAAAAAwASULQAAAAAwAWULAAAAAExA2QIAAAAAE1C2AAAAAMAEha0OUFAFvbHK6gjZOvVOmNURAAAAgHyPI1sAAAAAYALKFgAAAACYgLIFAAAAACagbAEAAACACShbAAAAAGACyhYAAAAAmICyBQAAAAAmoGwBAAAAgAkoWwAAAABgAsoWAAAAAJiAsgUAAAAAJqBsAQAAAIAJKFsAAAAAYALKFgAAAACYgLIFAAAAACagbAEAAACACShbAAAAAGACyhYAAAAAmICyBQAAAAAmoGwBAAAAgAkoWwAAAABgAsoWAAAAAJiAsgUAAAAAJqBsAQAAAIAJKFsAAAAAYAJLy9amTZvUvn17lS1bVk5OTlq2bJndesMwNHbsWJUpU0ZFixZVq1atdOzYMbsxV65cUffu3eXp6akSJUqob9++un79ut2YvXv36qmnnlKRIkUUEBCgqVOnmr1pAAAAAAo4S8tWcnKy6tSpo5kzZ2a5furUqfrwww81e/Zsbd++XcWLF1doaKh+//1325ju3bvrwIEDioqK0sqVK7Vp0ya9+uqrtvVJSUlq06aNAgMDtWvXLr377rsaP368Pv30U9O3DwAAAEDBVdjKN3/66af19NNPZ7nOMAy9//77evPNN9WxY0dJ0pdffik/Pz8tW7ZMXbt21aFDh7R69Wrt3LlTDRo0kCR99NFHateund577z2VLVtW8+fP182bNzVnzhy5urqqZs2aio2N1fTp0+1KGQAAAADkJYe9ZuvkyZOKj49Xq1atbMu8vLzUqFEjbd26VZK0detWlShRwla0JKlVq1YqVKiQtm/fbhvTtGlTubq62saEhobqyJEj+vXXX7N875SUFCUlJdk9AAAAACAnHLZsxcfHS5L8/Pzslvv5+dnWxcfHy9fX12594cKFVbJkSbsxWb3GH9/jTpMnT5aXl5ftERAQcP8bBAAAAKBAcdiyZaXRo0fr6tWrtseZM2esjgQAAAAgn3HYsuXv7y9JSkhIsFuekJBgW+fv768LFy7Yrb9165auXLliNyar1/jje9zJzc1Nnp6edg8AAAAAyAmHLVsVKlSQv7+/oqOjbcuSkpK0fft2hYSESJJCQkKUmJioXbt22casW7dO6enpatSokW3Mpk2blJqaahsTFRWlqlWrytvb+wFtDQAAAICCxtKydf36dcXGxio2NlbS7UkxYmNjFRcXJycnJw0ZMkSTJk3SihUrtG/fPvXs2VNly5ZVp06dJEnVq1dX27Zt1b9/f+3YsUMxMTEaNGiQunbtqrJly0qSXnrpJbm6uqpv3746cOCAFi9erA8++EDDhg2zaKsBAAAAFASWTv3+008/qXnz5rbnGQWoV69eioyM1MiRI5WcnKxXX31ViYmJevLJJ7V69WoVKVLE9jnz58/XoEGD1LJlSxUqVEhdunTRhx9+aFvv5eWlH374QeHh4apfv758fHw0duxYpn0HAAAAYCpLy1azZs1kGEa2652cnDRx4kRNnDgx2zElS5bUggUL7vo+wcHB+vHHH3OdEwAAAAByymGv2QIAAACA/IyyBQAAAAAmoGwBAAAAgAkoWwAAAABgAsoWAAAAAJiAsgUAAAAAJqBsAQAAAIAJKFsAAAAAYALKFgAAAACYgLIFAAAAACagbAEAAACACShbAAAAAGACyhYAAAAAmICyBQAAAAAmoGwBAAAAgAkoWwAAAABgAsoWAAAAAJiAsgUAAAAAJqBsAQAAAIAJKFsAAAAAYALKFgAAAACYgLIFAAAAACagbAEAAACACShbAAAAAGACyhYAAAAAmICyBQAAAAAmoGwBAAAAgAkoWwAAAABgAsoWAAAAAJiAsgUAAAAAJqBsAQAAAIAJKFsAAAAAYALKFgAAAACYgLIFAAAAACagbAEAAACACShbAAAAAGACyhYAAAAAmICyBQAAAAAmoGwBAAAAgAkoWwAAAABgAsoWAAAAAJiAsgUAAAAAJqBsAQAAAIAJKFsAAAAAYALKFgAAAACYgLIFAAAAACagbAEAAACACShbAAAAAGACyhYAAAAAmICyBQAAAAAmoGwBAAAAgAkoWwAAAABgAsoWAAAAAJiAsgUAAAAAJqBsAQAAAIAJKFsAAAAAYALKFgAAAACYwKHL1vjx4+Xk5GT3qFatmm3977//rvDwcJUqVUru7u7q0qWLEhIS7F4jLi5OYWFhKlasmHx9fTVixAjdunXrQW8KAAAAgAKmsNUB/kzNmjW1du1a2/PChf8XeejQoVq1apW+/vpreXl5adCgQercubNiYmIkSWlpaQoLC5O/v7+2bNmi8+fPq2fPnnJxcdHbb7/9wLcFAAAAQMHh8GWrcOHC8vf3z7T86tWr+uKLL7RgwQK1aNFCkjR37lxVr15d27Zt0xNPPKEffvhBBw8e1Nq1a+Xn56e6devqrbfe0qhRozR+/Hi5urpm+Z4pKSlKSUmxPU9KSjJn4wAAAAA8tBz6NEJJOnbsmMqWLauKFSuqe/fuiouLkyTt2rVLqampatWqlW1stWrVVL58eW3dulWStHXrVtWuXVt+fn62MaGhoUpKStKBAweyfc/JkyfLy8vL9ggICDBp6wAAAAA8rBy6bDVq1EiRkZFavXq1Zs2apZMnT+qpp57StWvXFB8fL1dXV5UoUcLuc/z8/BQfHy9Jio+PtytaGesz1mVn9OjRunr1qu1x5syZvN0wAAAAAA89hz6N8Omnn7Z9HBwcrEaNGikwMFBfffWVihYtatr7urm5yc3NzbTXBwAAAPDwc+gjW3cqUaKEqlSpouPHj8vf3183b95UYmKi3ZiEhATbNV7+/v6ZZifMeJ7VdWAAAAAAkFfyVdm6fv26Tpw4oTJlyqh+/fpycXFRdHS0bf2RI0cUFxenkJAQSVJISIj27dunCxcu2MZERUXJ09NTNWrUeOD5AQAAABQcDn0a4euvv6727dsrMDBQ586d07hx4+Ts7Kxu3brJy8tLffv21bBhw1SyZEl5enoqIiJCISEheuKJJyRJbdq0UY0aNfTyyy9r6tSpio+P15tvvqnw8HBOEwQAAABgKocuW7/88ou6deumy5cvq3Tp0nryySe1bds2lS5dWpI0Y8YMFSpUSF26dFFKSopCQ0P1ySef2D7f2dlZK1eu1GuvvaaQkBAVL15cvXr10sSJE63aJAAAAAAFhEOXrUWLFt11fZEiRTRz5kzNnDkz2zGBgYH67rvv8joaAAAAANxVvrpmCwAAAADyC8oWAAAAAJiAsgUAAAAAJqBsAQAAAIAJKFsAAAAAYALKFgAAAACYgLIFAAAAACagbAEAAACACShbAAAAAGACyhYAAAAAmICyBQAAAAAmoGwBAAAAgAkoWwAAAABgAsoWAAAAAJiAsgUAAAAAJqBsAQAAAIAJKFsAAAAAYALKFgAAAACYgLIFAAAAACagbAEAAACACShbAAAAAGACyhYAAAAAmICyBQAAAAAmoGwBAAAAgAkoWwAAAABgAsoWAAAAAJiAsgUAAAAAJqBsAQAAAIAJKFsAAAAAYALKFgAAAACYgLIFAAAAACagbAEAAACACShbAAAAAGACyhYAAAAAmICyBQAAAAAmoGwBAAAAgAkoWwAAAABgAsoWAAAAAJiAsgUAAAAAJqBsAQAAAIAJKFsAAAAAYALKFgAAAACYgLIFAAAAACagbAEAAACACShbAAAAAGACyhYAAAAAmICyBQAAAAAmoGwBAAAAgAkoWwAAAABgAsoWAAAAAJiAsgUAAAAAJqBsAQAAAIAJKFsAAAAAYALKFgAAAACYgLIFAAAAACagbAEAAACACQpU2Zo5c6aCgoJUpEgRNWrUSDt27LA6EgAAAICHVIEpW4sXL9awYcM0btw4/fe//1WdOnUUGhqqCxcuWB0NAAAAwEOosNUBHpTp06erf//+euWVVyRJs2fP1qpVqzRnzhy98cYbdmNTUlKUkpJie3716lVJUlJSUp7lSU/5Lc9eK6/l5XbmJfZZ7rDfco59ljvst5xjn+UO+y3n2Ge5w37LuYKwzzJexzCMPx3rZNzLqHzu5s2bKlasmL755ht16tTJtrxXr15KTEzU8uXL7caPHz9eEyZMeMApAQAAAOQXZ86cUbly5e46pkAc2bp06ZLS0tLk5+dnt9zPz0+HDx/ONH706NEaNmyY7Xl6erquXLmiUqVKycnJyfS8OZGUlKSAgACdOXNGnp6eVsfJN9hvOcc+yx32W86xz3KH/ZZz7LPcYb/lHPssdxx1vxmGoWvXrqls2bJ/OrZAlK2ccnNzk5ubm92yEiVKWBPmHnl6ejrUF2F+wX7LOfZZ7rDfco59ljvst5xjn+UO+y3n2Ge544j7zcvL657GFYgJMnx8fOTs7KyEhAS75QkJCfL397coFQAAAICHWYEoW66urqpfv76io6Nty9LT0xUdHa2QkBALkwEAAAB4WBWY0wiHDRumXr16qUGDBnr88cf1/vvvKzk52TY7YX7l5uamcePGZTrtEXfHfss59lnusN9yjn2WO+y3nGOf5Q77LefYZ7nzMOy3AjEbYYaPP/5Y7777ruLj41W3bl19+OGHatSokdWxAAAAADyEClTZAgAAAIAHpUBcswUAAAAADxplCwAAAABMQNkCAAAAABNQtgAAAADABJQtAIClxo0bp9OnT1sdAwBgoYoVK+ry5cuZlicmJqpixYoWJMoblC0AgKWWL1+uSpUqqWXLllqwYIFSUlKsjgTgDlu2bNHNmzetjpHv/Pbbbzp8+LD27t1r90Bmp06dUlpaWqblKSkpOnv2rAWJ8gZTv6PAWbhwoTp06KDixYtbHQXA/7d7927NnTtXCxcu1K1bt9S1a1f16dNHDRs2tDqaw+ncufM9j12yZImJSVCQlCxZUrGxsSpfvrzeeecdDRgwQCVKlLA6lsO6ePGiXnnlFX3//fdZrs+qVBRUK1askCR16tRJ8+bNk5eXl21dWlqaoqOjFRUVpSNHjlgV8b5QtvKh1atXy93dXU8++aQkaebMmfrss89Uo0YNzZw5U97e3hYndGyenp6KjY3N14ekzZTxn9696NChg4lJ8rdjx45p/fr1unDhgtLT0+3WjR071qJUji81NVXffvut5s6dqzVr1qhatWrq27evevfubfcDuCB75ZVXbB8bhqGlS5fKy8tLDRo0kCTt2rVLiYmJ6ty5s+bOnWtVTIf266+/6osvvtChQ4ckSdWrV1efPn1UsmRJi5M5lpYtW+rJJ59UkyZN9Pzzz2v//v0KCAjg5+g96N69u06fPq33339fzZo109KlS5WQkKBJkyZp2rRpCgsLszqiwyhU6PaJdk5OTrqzlri4uCgoKEjTpk3TM888Y0W8+0bZyodq166tKVOmqF27dtq3b58aNmyoYcOGaf369apWrRo/XP+Eh4eH9uzZww+JbGT8p/dnnJyc+MtcNj777DO99tpr8vHxkb+/v5ycnGzrnJyc9N///tfCdI7t5s2bWrp0qebMmaN169apcePGOnfunBISEvTZZ5/pxRdftDqiQxk1apSuXLmi2bNny9nZWdLtvwQPHDhQnp6eevfddy1O6Hg2bdqkDh06yNPTM1NB/fbbb9W0aVOLEzqOBQsWaPPmzdq8ebMOHDighg0bqkOHDpo0aZL27dunSpUqWR3RYZUpU0bLly/X448/Lk9PT/3000+qUqWKVqxYoalTp2rz5s1WR3Q4FSpU0M6dO+Xj42N1lDxF2cqH3N3dtX//fgUFBWn8+PHav3+/vvnmG/33v/9Vu3btFB8fb3VEh+bh4aG9e/eqQoUKVkfBQyowMFADBw7UqFGjrI6Sb+zatct2GqGbm5t69uypfv36qXLlypKkjz76SJMmTVJCQoLFSR1L6dKltXnzZlWtWtVu+ZEjR9S4ceMsLzYv6GrXrq2QkBDNmjUrU0HdsmWL9u3bZ3FCx+Tt7a23335bu3fv1pw5c1SsWDE1adJETZs21ejRo62O53A8PT21d+9eBQUFKTAwUAsWLFCTJk108uRJ1axZU7/99pvVEfGAFLY6AHLO1dXV9k26du1a9ezZU9Lt86mTkpKsjOaQ+vTpY/c8JSVFI0eOlIeHh23ZnDlzHnQsPMR+/fVXPf/881bHyDdq166tw4cPq02bNvriiy/Uvn172y/BGbp166bBgwdblNBx3bp1S4cPH85Utg4fPpzp9FXcdvz4cX3zzTd2X2POzs4aNmyYvvzySwuTOZ4ePXroySefVOPGjSVJzzzzjF577TUtXLhQy5cv15kzZ7Rp0yaLUzqmqlWr6siRIwoKClKdOnX0z3/+U0FBQZo9e7bKlCljdTyHFR0drRkzZtid4jtkyBC1atXK4mS5R9nKh5588kkNGzZMTZo00Y4dO7R48WJJ0tGjR1WuXDmL0zmewMBAu+dOTk4qW7Ys5+bfo507d2Z77dH06dMtSuXYnn/+ef3www8aMGCA1VHyhRdeeEF9+vTRI488ku0YHx8fykMWXnnlFfXt21cnTpzQ448/Lknavn273nnnHbtru/A/jz32mA4dOpSpoB46dEh16tSxKJVjqlu3rqKiojRx4kQlJSXpr3/9q7p06SLDMBQUFKTmzZvb/uALe4MHD9b58+cl3b69Rdu2bTV//ny5uroqMjLS2nAO6pNPPtHgwYP13HPP2f64tm3bNrVr104zZsxQeHi4xQlzh9MI86G4uDgNHDhQZ86c0d/+9jf17dtXkjR06FClpaXpww8/tDihY+OarXv39ttv680331TVqlXl5+eX6dqjdevWWZjOcU2ePFnTp09XWFiYateuLRcXF7v1f/vb3yxK5nhSU1NVrVo1rVy5UtWrV7c6Tr6Tnp6u9957Tx988IHtF7syZcpo8ODBGj58eKYjhJAWL16skSNHKiIiQk888YSk27/QzZw5U++8847d12FwcLBVMR2Ot7e3hgwZoh07dmj16tUqX768mjVrpr/85S/q3bu31fEcXsYU8OXLl3/orknKK+XKldMbb7yhQYMG2S2fOXOm3n777Xw7/TtlCwUOsyjdOz8/P02ZMoUfpDl0t+sBnZyc9PPPPz/ANI7vkUce0dq1aylb9ynjNHJPT0+Lkzi2P5sEKGNGNCYBsuft7a09e/aofPny8vDw0BdffKGTJ09q48aN+u6776yO53A2b95smzUa98bd3V2xsbG2a3UzHDt2TPXq1dP169ctSnZ/OI0wn0pLS9OyZcts57TWrFlTHTp04K+Y94C/L9y7QoUKqUmTJlbHyHdOnjxpdYR8JTw8XFOmTNHnn3+uwoX5sZRblKx7w/dn7rzxxht299Vq0KCBXnjhBSYCykaLFi30yCOPqFu3burRo4dq1KhhdSSH16FDBy1dulQjRoywW758+fJ8O+27xJGtfOn48eNq166dzp49azvn/MiRIwoICNCqVauYivVPbN68WQ0bNpSbm5vVURze1KlTde7cOb3//vtWR8m3Mv6L/eMpmLD37LPPKjo6Wu7u7qpdu3amG45zY157jz32mKKjo+Xt7a169erd9WuL2wzADPwc/XOXLl3SokWLtHDhQm3dulXBwcHq3r27unXrxvX12Zg0aZLee+89NWnSRCEhIZJun+IbExOj4cOH2/1BKT+djk/ZyofatWsnwzA0f/582yQPly9fVo8ePVSoUCGtWrXK4oR4WKSnpyssLExHjx5VjRo1Ml17xC/B2fvyyy/17rvv6tixY5KkKlWqaMSIEXr55ZctTuZ4/mwiB+4daG/ChAkaMWKEihUrpgkTJtx17Lhx4x5QqvyFm47nzOTJk+Xn55dpdt85c+bo4sWLHN36EydPntSCBQu0cOFCHT58WE2bNuWa5yzc6y158tvp+JStfKh48eLatm2bateubbd8z549atKkSb49pxWOZ9CgQfr888/VvHnzTBNkSPwSnJ3p06drzJgxGjRokO00zM2bN2vmzJmaNGmShg4danFCoODipuM5FxQUpAULFtimgM+wfft2de3alVMz70FaWpq+//57jRkzRnv37uV6wAKEk+PzITc3N127di3T8uvXr8vV1dWCRPlLWFiYPv/8c+5zcQ/mzZun//znPwoLC7M6Sr7y0UcfadasWXZTInfo0EE1a9bU+PHjKVtZuHXrljZs2KATJ07opZdekoeHh86dOydPT0+5u7tbHc/h7dq1y+4a3nr16lmcyHFNmjRJ//d//8fRmByIj4/P8mdm6dKlbbNgImsxMTGaP3++vvnmG/3+++/q2LGjJk+ebHUsPECUrXzomWee0auvvqovvvjC7r4qAwYMUIcOHSxO5/g2bdqkGzduWB0jXyhZsiTXAObC+fPnM/0FWJIaN27MLyZZOH36tNq2bau4uDilpKSodevW8vDw0JQpU5SSkqLZs2dbHdFhXbhwQV27dtWGDRtskxckJiaqefPmWrRokUqXLm1tQAfETcdzLiAgQDExMZlO84qJiVHZsmUtSuXYRo8erUWLFuncuXNq3bq1PvjgA3Xs2FHFihWzOppDGTZsmN566y0VL15cw4YNu+vY/Hpvz7vPfwqH9OGHH6pSpUoKCQlRkSJFVKRIETVu3FiVK1dmIgPkqfHjx2vcuHH67bffrI6Sr1SuXFlfffVVpuWLFy/Wo48+akEixzZ48GA1aNBAv/76q4oWLWpbnjFxBrIXERGha9eu6cCBA7py5YquXLmi/fv3KykpKV9dQP4gZdx0HPeuf//+GjJkiObOnavTp0/r9OnTmjNnjoYOHar+/ftbHc8hbdq0SSNGjNDZs2e1cuVKdevWjaKVhd27dys1NVXS7Ql9du/eneUjNjbW2qD3gWu28rHjx4/bThupXr16pvsSIGseHh7au3fvPV+IWZDVq1dPJ06ckGEYCgoKyjRBBtc2ZO0///mPXnzxRbVq1cp2zVZMTIyio6P11Vdf6dlnn7U4oWMpVaqUtmzZoqpVq9rddPzUqVOqUaMGZf8uvLy8tHbtWjVs2NBu+Y4dO9SmTRslJiZaE8zBfPjhh7aPk5OTuel4DhmGoTfeeEMffvihbt68KUkqUqSIRo0axYQiwJ/gNMJ84s8Os65fv972cX49zGqWQoUKZZrYIaOYcuPKu+vYsSNTludCly5dtH37ds2YMUPLli2TdPsPIjt27OBamiykp6dn+T34yy+/yMPDw4JE+Ud6enqmsiBJLi4umWbZK8hmzJhh99zd3V0bN27Uxo0b7ZY7OTlRtrLg5OSkKVOmaMyYMTp06JCKFi2qRx99lKnf78HBgwcVFxdnK6kZuOzDXmpqqooWLarY2FjVqlXL6jh5iiNb+UTz5s21dOlSlShRQs2bN892nJOTE9OJ3uH06dO2jw3DUK1atfTdd98pMDDQtvyPHwN4sF588UV5eXnp008/tR15Ll26tDp27Kjy5csz6+VddOzYUYmJiVq4cKHt2pmzZ8+qe/fu8vb21tKlSy1O6Ni4Dx7M8vPPP+vZZ5/Vvn375OTklOlrjT/yZlaxYkUtXbpUderUsTpKnqJsocD542lKuLuKFStq586dKlWqlN3yxMREPfbYY/nqPhcPWnp6uo4fP57lfXyaNm1qUSrH9Msvvyg0NFSGYejYsWNq0KCBjh07Jh8fH23atEm+vr5WR3RYZ86cUYcOHXTgwAEFBATYltWqVUsrVqzg5qnZ+OKLLzRjxgzbffAeffRRDRkyRP369bM4GR4W7du3l7Ozsz7//HNVqFBBO3bs0OXLlzV8+HC99957euqpp6yO6HC++OILLVmyRP/6179s95F9GFC2UOBQtu5doUKFFB8fn+mX3YSEBAUEBGQ6LQK3bdu2TS+99JJOnz6tO/+L5bTVrN26dUuLFi3S3r17df36dT322GPq3r273YQZyJphGFq7dq0OHz4s6fYpq61atbI4leMaO3aspk+froiICIWEhEiStm7dqo8//lhDhw7VxIkTLU6Ih4GPj4/WrVun4OBgeXl5aceOHapatarWrVun4cOHa/fu3VZHdDj16tXT8ePHlZqaqsDAQBUvXtxufX69TpxrtlDgBAYGZnmNA/5nxYoVto/XrFkjLy8v2/O0tDRFR0czwchdDBgwQA0aNNCqVatUpkwZTlG6B4ULF1aPHj2sjpGv/PEah9atW6t169ZWR8oXZs2apc8++0zdunWzLevQoYOCg4MVERFB2UKeSEtLs11z6uPjo3Pnzqlq1aoKDAzUkSNHLE7nmDp16mR1BFNQtlDg7N+/3+oIDi/jPzwnJyf16tXLbp2Li4uCgoI0bdo0C5LlD8eOHdM333zDDKH36Msvv7zr+j/eHBr/4+LiovLly3OkNIdSU1PVoEGDTMvr16+vW7duWZAID6NatWppz549qlChgho1aqSpU6fK1dVVn376KWfWZGPcuHFWRzAFpxGiQJg8ebL8/PzUp08fu+Vz5szRxYsXNWrUKIuSObYKFSpo586d8vHxsTpKvtKiRQuNHDlSbdu2tTpKvuDt7W33PDU1Vb/99ptcXV1VrFgxXblyxaJkju9hvcbBTBEREXJxcck0c+/rr7+uGzduaObMmRYlw8NkzZo1Sk5OVufOnXXs2DG1b99eR48eValSpbRo0SK1bNnS6ogOZ+fOnUpPT1ejRo3slm/fvl3Ozs5Z/pEkP6BsoUAICgrSggUL1LhxY7vl27dvV9euXXXy5EmLkjm+6OhoRUdHZznRw5w5cyxK5Xj27t1r+/jEiRN68803NWLEiCzv4xMcHPyg4+U7x44d02uvvaYRI0YoNDTU6jgO62G9xsFMERER+vLLLxUQEKAnnnhC0u2fBXFxcerZs6fd9yu3UkFeunLliry9vTm1PBuPP/64Ro4cqeeee85u+ZIlSzRlyhRt377domT3h7KFAqFIkSI6dOhQpuuMfv75Z9WoUUO///67Rckc28SJEzVhwgQ1aNAgy2uPmFb6fzLu55bdf6kZ65gg49799NNP6tGjh23iB2Q2YcKEu65/WE/LuR93u33KH3ErFeRU586dFRkZKU9PT3Xu3PmuY93d3VWzZk0NGDDA7rrogszd3V179+7NdJrlyZMnFRwcrGvXrlmU7P5wzRYKhICAAMXExGQqWzExMbZ70yCzWbNmKTIyUi+//LLVURweR0fzXuHChXXu3DmrYzg0ylTOrV+/3uoIeEh5eXnZ/ij5ZwUqJSVFs2fPVkxMjN2kVAWZm5ubEhISMpWt8+fPq3Dh/FtZ8m9yIAf69++vIUOGKDU1VS1atJB0+/S4kSNHavjw4Ranc1w3b97MdOolsvbHG2Nv2rRJjRs3zvTD4datW9qyZQs30b7Dnb9oGIah8+fP6+OPP1aTJk0sSgUAOfPHG7Dfy83YDx48qIYNG5oZKV9p06aNRo8ereXLl9vKamJiov7+97/n69lWOY0QBYJhGHrjjTf04Ycf2u4NVaRIEY0aNUpjx461OJ3jGjVqlNzd3TVmzBiro+Qrzs7OOn/+fKb7k12+fFm+vr6cRniHQoUK2T13cnJS6dKl1aJFC02bNk1lypSxKJljysk1H0wuAjiutLQ07d+/X3Xq1LE6ikM4e/asmjZtqsuXL6tevXqSpNjYWPn5+SkqKsp24/b8hrKFAuX69es6dOiQihYtqkcffVRubm5WR3I4w4YNs32cnp6uefPmKTg4WMHBwZkmeuDi8awVKlRICQkJKl26tN3yo0ePqkGDBkpKSrIoGR4G8+bNs318+fJlTZo0SaGhoXY36F2zZo3GjBmjoUOHWhUTAHIsOTlZ8+fP1549e1S0aFEFBwerW7du+fr+qJQtAHa4eDz3Mi6IXr58udq2bWtX5tPS0rR3715VrVpVq1evtioiHjJdunRR8+bNNWjQILvlH3/8sdauXatly5ZZEwwAIImyBQB55pVXXpF0+8jDCy+8oKJFi9rWubq6KigoSP379+e+ZXf449HUP8PRVHvu7u6KjY3NdAPt48ePq27durp+/bpFyQAgZ+bNmycfHx+FhYVJkkaOHKlPP/1UNWrU0MKFC/Pt9c5MkAEAeSTjguigoCC9/vrrme55hKzt3r1bu3fvVmpqqqpWrSrp9imXzs7Oeuyxx2zjuDdNZqVKldLy5cszTfSzfPlylSpVyqJUAJBzb7/9tmbNmiXp9unQH3/8sd5//32tXLlSQ4cO1ZIlSyxOmDuULQDIY+np6bp06RJl6x61b99eHh4emjdvnry9vSVJv/76q1555RU99dRTzBh6FxMmTFC/fv20YcMGNWrUSNLtG/SuXr1an332mcXpAODenTlzxnaUftmyZXruuef06quvqkmTJmrWrJm14e5DoT8fAgDIiRUrVqhSpUpq2bKlFixYoJSUFKsjObRp06Zp8uTJtqIl3Z5xb9KkSZo2bZqFyRxf7969FRMTI09PTy1ZskRLliyRp6enNm/erN69e1sdDwDumbu7uy5fvixJ+uGHH2zTvRcpUkQ3btywMtp94cgWAOSxjNPi5s6dq8GDBys8PFxdu3ZVnz59uKdKFpKSknTx4sVMyy9evKhr165ZkCh/adSokebPn291DAC4L61bt1a/fv1Ur149HT16VO3atZMkHThwQEFBQdaGuw9MkAEAJkpNTdW3336ruXPnas2aNapWrZr69u2r3r17227aWND17NlTP/74o6ZNm6bHH39c0u1T4UaMGKGnnnrKbqpzZJaenq7jx4/rwoULSk9Pt1vXtGlTi1IBQM4kJibqzTff1JkzZ/Taa6+pbdu2kqRx48bJ1dVV//jHPyxOmDuULQAw0c2bN7V06VLNmTNH69atU+PGjXXu3DklJCTos88+04svvmh1RMv99ttvev311zVnzhylpqbKMAy5uLiob9++evfdd7n27S62bduml156SadPn9adP86dnJy4gTYAWIyyBQAm2LVrl+bOnauFCxfKzc1NPXv2VL9+/WwX/3700UeaNGmSEhISLE7qOJKTk3XixAlJUqVKlShZ96Bu3bqqUqWKJkyYoDJlymSasZGjpwDym99++01xcXG6efOm3fLg4GCLEt0fyhYA5LHatWvr8OHDatOmjfr376/27dvL2dnZbsylS5fk6+ub6bSvgqJz586KjIyUp6en7WbQ2XF3d1fNmjU1YMAAysMdihcvrj179mS6zxYA5DcXL15U7969tXr16izX59cj9cxGCAB57IUXXtCpU6e0atUqdezYUYUKZf6v1sfHp8AWLen2EZeMozBeXl53fdy6dUuzZ8/Wyy+/bHFqx9OoUSMdP37c6hgAcN+GDBmiq1evavv27SpatKhWr16tefPm6dFHH9WKFSusjpdrHNkCABN88cUXmjFjho4dOyZJevTRRzVkyBD169fP4mT508GDB9WwYUMlJydbHcWhLF26VG+++aZGjBih2rVry8XFxW59fj3tBkDBU6ZMGS1fvlyPP/64PD099dNPP6lKlSpasWKFpk6dqs2bN1sdMVeY+h0A8tjYsWM1ffp0RUREKCQkRJK0detWDR06VHFxcZo4caLFCfOfqlWrasuWLVbHcDhdunSRJPXp0yfTOibIAJCfJCcny9fXV9Ltey1evHhRVapUUe3atfXf//7X4nS5R9kCgDw2a9YsffbZZ+rWrZttWYcOHRQcHKyIiAjKVi44OzurTp06VsdwOCdPnrQ6AgDkiapVq+rIkSMKCgpSnTp19M9//lNBQUGaPXu2ypQpY3W8XKNsAUAeS01NVYMGDTItr1+/vm7dumVBIjysAgMDJd0+zfLO2bucnJxs6wHA0Q0ePFjnz5+XdPveWm3bttX8+fPl6uqqyMhIa8PdB67ZAoA8FhERIRcXF02fPt1u+euvv64bN25o5syZFiXDw+bnn3/Ws88+q3379snJycl2r62MyUc4jRBAfvXbb7/p8OHDKl++vHx8fKyOk2uULQDIYxEREfryyy8VEBCgJ554QpK0fft2xcXFqWfPnnaTGNxZyICcyLitwOeff64KFSpo+/btunLlioYPH6733ntPTz31lNURAeCebN68WU8++aTVMfIcZQsA8ljz5s3vaZyTk5PWrVtncho8zHx8fLRu3ToFBwfLy8tLO3bsUNWqVbVu3ToNHz5cu3fvtjoiANwTV1dXPfLII+rWrZt69OihGjVqWB0pT3DNFgDksfXr11sdAQVEWlqaPDw8JN0uXufOnVPVqlUVGBioI0eOWJwOAO7duXPntGjRIi1cuFDvvPOOgoOD1b17d3Xr1k3lypWzOl6ucVNjAADyqVq1amnPnj2Sbt/geOrUqYqJidHEiRNVsWJFi9MBwL3z8fHRoEGDFBMToxMnTuj555/XvHnzFBQUpBYtWlgdL9c4jRAAgHxqzZo1Sk5OVufOnXX8+HE988wzOnr0qEqVKqXFixfn619QABRsaWlp+v777zVmzBjt3bs33074Q9kCAOAhcuXKFXl7e9tmJASA/CQmJkbz58/XN998o99//10dO3ZU9+7d1bZtW6uj5QplCwAAAIClRo8erUWLFuncuXNq3bq1unfvro4dO6pYsWJWR7svlC0AAAAAlmrSpIm6d++uF154IV/fV+tOlC0AAAAAMAFTvwMAAABwCAcPHlRcXJxu3rxpt7xDhw4WJbo/lC0AAAAAlvr555/17LPPat++fXJyclLGyXcZk/3k19kIuc8WAAAAAEsNHjxYFSpU0IULF1SsWDEdOHBAmzZtUoMGDbRhwwar4+Ua12wBAAAAsJSPj4/WrVun4OBgeXl5aceOHapatarWrVun4cOHa/fu3VZHzBWObAEAAACwVFpamjw8PCTdLl7nzp2TJAUGBurIkSNWRrsvXLMFAAAAwFK1atXSnj17VKFCBTVq1EhTp06Vq6urPv30U1WsWNHqeLnGaYQAAAAALLVmzRolJyerc+fOOnbsmNq3b6+jR4+qVKlSWrRokVq2bGl1xFyhbAEAAABwOFeuXJG3t7dtRsL8iNMIAQAAADxwnTt3VmRkpDw9PdW5c+e7jnV3d1fNmjU1YMAAeXl5PaCE94+yBQAAAOCB8/Lysh21+rMClZKSotmzZysmJkYrVqx4EPHyBKcRAgAAAHB4Bw8eVMOGDZWcnGx1lHtG2QIAAADg8NLS0rR//37VqVPH6ij3jLIFAAAAACbgpsYAAAAAYALKFgAAAACYgLIFAAAAACagbAEAAACACShbAAAAAGACyhYAoEBzcnK662P8+PFWRwQA5FOFrQ4AAICVzp8/b/t48eLFGjt2rI4cOWJb5u7ubkUsAMBDgCNbAIACzd/f3/bw8vKSk5OT7XlycrK6d+8uPz8/ubu7q2HDhlq7dq3d558/f15hYWEqWrSoKlSooAULFigoKEjvv/++NRsEAHAYlC0AALJx/fp1tWvXTtHR0dq9e7fatm2r9u3bKy4uzjamZ8+eOnfunDZs2KD//Oc/+vTTT3XhwgULUwMAHAWnEQIAkI06deqoTp06tudvvfWWli5dqhUrVmjQoEE6fPiw1q5dq507d6pBgwaSpM8//1yPPvqoVZEBAA6EI1sAAGTj+vXrev3111W9enWVKFFC7u7uOnTokO3I1pEjR1S4cGE99thjts+pXLmyvL29rYoMAHAgHNkCACAbr7/+uqKiovTee++pcuXKKlq0qJ577jndvHnT6mgAgHyAsgUAQDZiYmLUu3dvPfvss5JuH+k6deqUbX3VqlV169Yt7d69W/Xr15ckHT9+XL/++qsVcQEADobTCAEAyMajjz6qJUuWKDY2Vnv27NFLL72k9PR02/pq1aqpVatWevXVV7Vjxw7t3r1br776qooWLSonJycLkwMAHAFlCwCAbEyfPl3e3t5q3Lix2rdvr9DQULvrsyTpyy+/lJ+fn5o2bapnn31W/fv3l4eHh4oUKWJRagCAo3AyDMOwOgQAAA+LX375RQEBAVq7dq1atmxpdRwAgIUoWwAA3Id169bp+vXrql27ts6fP6+RI0fq7NmzOnr0qFxcXKyOBwCwEBNkAABwH1JTU/X3v/9dP//8szw8PNS4cWPNnz+fogUA4MgWAAAAAJiBCTIAAAAAwASULQAAAAAwAWULAAAAAExA2QIAAAAAE1C2AAAAAMAElC0AAAAAMAFlCwAAAABMQNkCAAAAABP8P+lZ69QyWrm5AAAAAElFTkSuQmCC",
      "text/plain": [
       "<Figure size 1000x600 with 1 Axes>"
      ]
     },
     "metadata": {},
     "output_type": "display_data"
    }
   ],
   "source": [
    "#visualizing the Tag column\n",
    "\n",
    "import matplotlib.pyplot as plt\n",
    "\n",
    "# Count the occurrences of each unique tag\n",
    "tag_counts = df['Tag'].value_counts().sort_values()\n",
    "\n",
    "# Plot the tag counts in ascending order\n",
    "plt.figure(figsize=(10, 6))\n",
    "tag_counts.plot(kind='bar')\n",
    "plt.title('Tag Distribution (Ascending)')\n",
    "plt.xlabel('Tag')\n",
    "plt.ylabel('Count')\n",
    "plt.show()"
   ]
  },
  {
   "cell_type": "code",
   "execution_count": 10,
   "metadata": {},
   "outputs": [
    {
     "name": "stdout",
     "output_type": "stream",
     "text": [
      "                                           Title      Tag\n",
      "0  Make a dynamic GridView to fit screen android  android\n",
      "1                 image/video processing options   python\n",
      "2               Error while using HttpConnection     java\n",
      "3    Marker icon not showing up but is clickable  android\n",
      "4         Swift - Trouble with SKAction sequence      ios\n"
     ]
    }
   ],
   "source": [
    "# Drop the column 'body'\n",
    "df = df.drop(columns=['Body'])\n",
    "\n",
    "# Verify the column has been dropped by displaying the first few rows\n",
    "\n",
    "print(df.head())\n",
    "\n"
   ]
  },
  {
   "cell_type": "code",
<<<<<<< HEAD
   "execution_count": 11,
=======
   "execution_count": 17,
>>>>>>> 55985c068808331f077cfdfb4c9d128a2d4c2c01
   "metadata": {},
   "outputs": [
    {
     "name": "stdout",
     "output_type": "stream",
     "text": [
<<<<<<< HEAD
      "                                           Title      Tag  Tag_encoded\n",
      "0  Make a dynamic GridView to fit screen android  android            0\n",
      "1                 image/video processing options   python            9\n",
      "2               Error while using HttpConnection     java            5\n",
      "3    Marker icon not showing up but is clickable  android            0\n",
      "4         Swift - Trouble with SKAction sequence      ios            4\n"
=======
      "                                      Title      Tag  Tag_encoded\n",
      "0  make dynamic gridview fit screen android  android            0\n",
      "1             image video processing option   python            9\n",
      "2                error using httpconnection     java            5\n",
      "3             marker icon showing clickable  android            0\n",
      "4           swift trouble skaction sequence      ios            4\n"
>>>>>>> 55985c068808331f077cfdfb4c9d128a2d4c2c01
     ]
    }
   ],
   "source": [
    "#encode the target variable\n",
    "\n",
    "from sklearn.preprocessing import LabelEncoder\n",
    "label_encoder = LabelEncoder()\n",
    "\n",
    "# Encode the 'Tag' column\n",
    "df['Tag_encoded'] = label_encoder.fit_transform(df['Tag'])\n",
    "\n",
    "# Display the first few rows of the DataFrame\n",
    "print(df.head())"
   ]
  },
  {
   "cell_type": "code",
<<<<<<< HEAD
   "execution_count": 12,
=======
   "execution_count": 18,
>>>>>>> 55985c068808331f077cfdfb4c9d128a2d4c2c01
   "metadata": {},
   "outputs": [
    {
     "name": "stderr",
     "output_type": "stream",
     "text": [
      "[nltk_data] Downloading package punkt to\n",
      "[nltk_data]     C:\\Users\\user\\AppData\\Roaming\\nltk_data...\n",
      "[nltk_data]   Package punkt is already up-to-date!\n",
      "[nltk_data] Downloading package stopwords to\n",
      "[nltk_data]     C:\\Users\\user\\AppData\\Roaming\\nltk_data...\n",
      "[nltk_data]   Package stopwords is already up-to-date!\n",
      "[nltk_data] Downloading package wordnet to\n",
      "[nltk_data]     C:\\Users\\user\\AppData\\Roaming\\nltk_data...\n",
      "[nltk_data]   Package wordnet is already up-to-date!\n"
     ]
    },
    {
<<<<<<< HEAD
     "name": "stdout",
     "output_type": "stream",
     "text": [
      "                                                Title  \\\n",
      "0       Make a dynamic GridView to fit screen android   \n",
      "1                      image/video processing options   \n",
      "2                    Error while using HttpConnection   \n",
      "3         Marker icon not showing up but is clickable   \n",
      "4              Swift - Trouble with SKAction sequence   \n",
      "5   How to call the methods in a dll from javascript?   \n",
      "6   Expecting a function in instanceof check, but ...   \n",
      "7   Converting Miliseconds to Date returns 1970 as...   \n",
      "8   jQuery List Filter not working (Uncaught TypeE...   \n",
      "9                        Crash in iOS: XPC API Misuse   \n",
      "10  How to change servlet request body in java fil...   \n",
      "11  Text boxes appended by JS squish together unex...   \n",
      "12                  Put A String In A ifstream Method   \n",
      "13       Spring: create mocks instead of real objects   \n",
      "14      Write HTML to screen with Javascript function   \n",
      "\n",
      "                                        Title_cleaned  \n",
      "0            make dynamic gridview fit screen android  \n",
      "1                       image video processing option  \n",
      "2                          error using httpconnection  \n",
      "3                       marker icon showing clickable  \n",
      "4                     swift trouble skaction sequence  \n",
      "5                          call method dll javascript  \n",
      "6   expecting function instanceof check got body t...  \n",
      "7             converting miliseconds date return year  \n",
      "8   jquery list filter working uncaught typeerror ...  \n",
      "9                             crash io xpc api misuse  \n",
      "10            change servlet request body java filter  \n",
      "11   text box appended j squish together unexpectedly  \n",
      "12                         put string ifstream method  \n",
      "13             spring create mock instead real object  \n",
      "14              write html screen javascript function  \n"
     ]
=======
     "data": {
      "text/html": [
       "<div>\n",
       "<style scoped>\n",
       "    .dataframe tbody tr th:only-of-type {\n",
       "        vertical-align: middle;\n",
       "    }\n",
       "\n",
       "    .dataframe tbody tr th {\n",
       "        vertical-align: top;\n",
       "    }\n",
       "\n",
       "    .dataframe thead th {\n",
       "        text-align: right;\n",
       "    }\n",
       "</style>\n",
       "<table border=\"1\" class=\"dataframe\">\n",
       "  <thead>\n",
       "    <tr style=\"text-align: right;\">\n",
       "      <th></th>\n",
       "      <th>Title</th>\n",
       "      <th>Tag</th>\n",
       "      <th>Tag_encoded</th>\n",
       "    </tr>\n",
       "  </thead>\n",
       "  <tbody>\n",
       "    <tr>\n",
       "      <th>0</th>\n",
       "      <td>make dynamic gridview fit screen android</td>\n",
       "      <td>android</td>\n",
       "      <td>0</td>\n",
       "    </tr>\n",
       "    <tr>\n",
       "      <th>1</th>\n",
       "      <td>image video processing option</td>\n",
       "      <td>python</td>\n",
       "      <td>9</td>\n",
       "    </tr>\n",
       "    <tr>\n",
       "      <th>2</th>\n",
       "      <td>error using httpconnection</td>\n",
       "      <td>java</td>\n",
       "      <td>5</td>\n",
       "    </tr>\n",
       "    <tr>\n",
       "      <th>3</th>\n",
       "      <td>marker icon showing clickable</td>\n",
       "      <td>android</td>\n",
       "      <td>0</td>\n",
       "    </tr>\n",
       "    <tr>\n",
       "      <th>4</th>\n",
       "      <td>swift trouble skaction sequence</td>\n",
       "      <td>ios</td>\n",
       "      <td>4</td>\n",
       "    </tr>\n",
       "    <tr>\n",
       "      <th>...</th>\n",
       "      <td>...</td>\n",
       "      <td>...</td>\n",
       "      <td>...</td>\n",
       "    </tr>\n",
       "    <tr>\n",
       "      <th>22159</th>\n",
       "      <td>remove image wordpress r feed</td>\n",
       "      <td>php</td>\n",
       "      <td>8</td>\n",
       "    </tr>\n",
       "    <tr>\n",
       "      <th>22160</th>\n",
       "      <td>java array bound error bound</td>\n",
       "      <td>java</td>\n",
       "      <td>5</td>\n",
       "    </tr>\n",
       "    <tr>\n",
       "      <th>22161</th>\n",
       "      <td>refresh div jquery ajax call</td>\n",
       "      <td>html</td>\n",
       "      <td>3</td>\n",
       "    </tr>\n",
       "    <tr>\n",
       "      <th>22162</th>\n",
       "      <td>parallel recursive function python</td>\n",
       "      <td>python</td>\n",
       "      <td>9</td>\n",
       "    </tr>\n",
       "    <tr>\n",
       "      <th>22163</th>\n",
       "      <td>force reload anything change j user browsing p...</td>\n",
       "      <td>html</td>\n",
       "      <td>3</td>\n",
       "    </tr>\n",
       "  </tbody>\n",
       "</table>\n",
       "<p>22164 rows × 3 columns</p>\n",
       "</div>"
      ],
      "text/plain": [
       "                                                   Title      Tag  Tag_encoded\n",
       "0               make dynamic gridview fit screen android  android            0\n",
       "1                          image video processing option   python            9\n",
       "2                             error using httpconnection     java            5\n",
       "3                          marker icon showing clickable  android            0\n",
       "4                        swift trouble skaction sequence      ios            4\n",
       "...                                                  ...      ...          ...\n",
       "22159                      remove image wordpress r feed      php            8\n",
       "22160                       java array bound error bound     java            5\n",
       "22161                       refresh div jquery ajax call     html            3\n",
       "22162                 parallel recursive function python   python            9\n",
       "22163  force reload anything change j user browsing p...     html            3\n",
       "\n",
       "[22164 rows x 3 columns]"
      ]
     },
     "execution_count": 18,
     "metadata": {},
     "output_type": "execute_result"
>>>>>>> 55985c068808331f077cfdfb4c9d128a2d4c2c01
    }
   ],
   "source": [
    "import nltk\n",
    "from nltk.tokenize import word_tokenize\n",
    "from nltk.corpus import stopwords\n",
    "from nltk.stem import WordNetLemmatizer\n",
    "import re\n",
    "\n",
    "# Download necessary resources for nltk\n",
    "nltk.download('punkt')\n",
    "nltk.download('stopwords')\n",
    "nltk.download('wordnet')\n",
    "\n",
    "# Initialize WordNet Lemmatizer\n",
    "lemmatizer = WordNetLemmatizer()\n",
    "\n",
    "# Define a function for preprocessing a single text\n",
    "def preprocess_text(text):\n",
    "    \n",
    "    # Remove HTML tags\n",
    "    text = re.sub(r'<[^>]+>', '', text)\n",
    "    \n",
    "    # Remove special characters and digits\n",
    "    text = re.sub(r'[^a-zA-Z]', ' ', text)\n",
    "    \n",
    "    # Tokenization\n",
    "    tokens = word_tokenize(text.lower())\n",
    "    \n",
    "    # Remove stopwords\n",
    "    stop_words = set(stopwords.words('english'))\n",
    "    tokens = [token for token in tokens if token not in stop_words]\n",
    "    \n",
    "    # Lemmatization\n",
    "    tokens = [lemmatizer.lemmatize(token) for token in tokens]\n",
    "    \n",
    "    # Join tokens back into a string\n",
    "    preprocessed_text = ' '.join(tokens)\n",
    "    \n",
    "    return preprocessed_text\n",
    "\n",
    "# Apply preprocessing to the 'Title' column and save to 'Title_cleaned'\n",
    "df['Title_cleaned'] = df['Title'].apply(preprocess_text)\n",
    "\n",
    "# Display the preprocessed titles\n",
    "print(df[['Title', 'Title_cleaned']].head(15))\n",
    "\n"
   ]
  },
  {
   "cell_type": "code",
<<<<<<< HEAD
   "execution_count": 13,
=======
   "execution_count": 19,
>>>>>>> 55985c068808331f077cfdfb4c9d128a2d4c2c01
   "metadata": {},
   "outputs": [],
   "source": [
    "#splitting the data into training data and testing data\n",
    "\n",
    "from sklearn.model_selection import train_test_split\n",
<<<<<<< HEAD
    "x_train,x_test,y_train,y_test = train_test_split(df['Title_cleaned'],df['Tag_encoded'].values,random_state=42,test_size=0.3)"
=======
    "x_train,x_test,y_train,y_test = train_test_split(df['Title'],df['Tag_encoded'],random_state=42,test_size=0.3)"
>>>>>>> 55985c068808331f077cfdfb4c9d128a2d4c2c01
   ]
  },
  {
   "cell_type": "code",
<<<<<<< HEAD
   "execution_count": 14,
=======
   "execution_count": 20,
>>>>>>> 55985c068808331f077cfdfb4c9d128a2d4c2c01
   "metadata": {},
   "outputs": [
    {
     "data": {
      "text/plain": [
       "20615    putting button navigationitem titleview progra...\n",
       "8361                         get list control groupbox wpf\n",
       "19724    use html section id contact semantically corre...\n",
       "20035          numba error notimplementederror unable cast\n",
       "17627                  access html form element javascript\n",
       "                               ...                        \n",
       "11964             would search certain word character java\n",
       "21575                         convert image url hex string\n",
       "5390                 retrieve property value array literal\n",
       "860                       getlongarrayextra returning null\n",
       "15795       jquery form validator showing validate functon\n",
       "Name: Title_cleaned, Length: 15514, dtype: object"
      ]
     },
<<<<<<< HEAD
     "execution_count": 14,
=======
     "execution_count": 20,
>>>>>>> 55985c068808331f077cfdfb4c9d128a2d4c2c01
     "metadata": {},
     "output_type": "execute_result"
    }
   ],
   "source": [
    "x_train"
   ]
  },
  {
   "cell_type": "code",
<<<<<<< HEAD
   "execution_count": 15,
   "metadata": {},
   "outputs": [
    {
     "data": {
      "text/plain": [
       "array([4, 1, 3, ..., 6, 5, 8])"
      ]
     },
     "execution_count": 15,
     "metadata": {},
     "output_type": "execute_result"
    }
   ],
   "source": [
    "y_train"
   ]
  },
  {
   "cell_type": "code",
   "execution_count": 16,
   "metadata": {},
   "outputs": [
    {
     "data": {
      "text/plain": [
       "5094     custom uistoryboardsegue use presentviewcontro...\n",
       "5982     attempt invoke virtual method void android gra...\n",
       "21701                     tomcat home page coming properly\n",
       "2638             creating application dock icon mac c mono\n",
       "19076                         copying file isolatedstorage\n",
       "                               ...                        \n",
       "15555                          find reference child method\n",
       "5942        memory model apache modwsgi application python\n",
       "10838            child view custom view render marshmallow\n",
       "19970                c simple cache design function output\n",
       "116                                rerun remote validation\n",
       "Name: Title_cleaned, Length: 6650, dtype: object"
      ]
     },
     "execution_count": 16,
     "metadata": {},
     "output_type": "execute_result"
    }
   ],
   "source": [
    "x_test"
   ]
  },
  {
   "cell_type": "code",
   "execution_count": 17,
   "metadata": {},
   "outputs": [
    {
     "data": {
      "text/plain": [
       "array([4, 5, 5, ..., 0, 2, 6])"
      ]
     },
     "execution_count": 17,
     "metadata": {},
     "output_type": "execute_result"
    }
   ],
   "source": [
    "y_test"
   ]
  },
  {
   "cell_type": "code",
   "execution_count": 18,
=======
   "execution_count": 21,
>>>>>>> 55985c068808331f077cfdfb4c9d128a2d4c2c01
   "metadata": {},
   "outputs": [],
   "source": [
    "# Import the TfidfVectorizer class from scikit-learn\n",
    "\n",
    "from sklearn.feature_extraction.text import TfidfVectorizer\n",
    "\n",
    "# Initialize a TfidfVectorizer object\n",
    "\n",
    "tfidf_vectorizer = TfidfVectorizer()\n"
   ]
  },
  {
   "cell_type": "code",
<<<<<<< HEAD
   "execution_count": 19,
=======
   "execution_count": 22,
>>>>>>> 55985c068808331f077cfdfb4c9d128a2d4c2c01
   "metadata": {},
   "outputs": [],
   "source": [
    "# Transform the training data (x_train) into TF-IDF features\n",
    "\n",
    "x_train_tfidf = tfidf_vectorizer.fit_transform(x_train)\n",
    "\n",
    "# Transform the testing data (x_test) using the same vocabulary learned from the training data\n",
    "\n",
    "x_test_tfidf = tfidf_vectorizer.transform(x_test)\n",
    "\n",
    "\n"
   ]
  },
  {
   "cell_type": "code",
<<<<<<< HEAD
   "execution_count": 20,
   "metadata": {},
   "outputs": [],
   "source": [
    "from sklearn.feature_extraction.text import CountVectorizer\n",
    "\n",
    "# Initialize a CountVectorizer object\n",
    "count_vectorizer = CountVectorizer()\n",
    "\n",
    "\n",
    "# Transform the training data (x_train) into CountVector features\n",
    "x_train_count = count_vectorizer.fit_transform(x_train)\n",
    "\n",
    "# Transform the testing data (x_test) using the same vocabulary learned from the training data\n",
    "x_test_count = count_vectorizer.transform(x_test)"
   ]
  },
  {
   "cell_type": "code",
   "execution_count": 21,
=======
   "execution_count": 23,
>>>>>>> 55985c068808331f077cfdfb4c9d128a2d4c2c01
   "metadata": {},
   "outputs": [
    {
     "name": "stdout",
     "output_type": "stream",
     "text": [
      "K-Nearest Neighbors:\n",
      "  Accuracy: 0.40\n",
      "              precision    recall  f1-score   support\n",
      "\n",
      "           0       0.37      0.59      0.46       691\n",
      "           1       0.39      0.45      0.42       843\n",
      "           2       0.39      0.34      0.37       397\n",
<<<<<<< HEAD
      "           3       0.26      0.24      0.25       483\n",
      "           4       0.66      0.32      0.43       396\n",
      "           5       0.51      0.38      0.44       955\n",
      "           6       0.36      0.34      0.35       930\n",
      "           7       0.33      0.29      0.31       614\n",
      "           8       0.50      0.40      0.44       811\n",
=======
      "           3       0.26      0.23      0.24       483\n",
      "           4       0.66      0.32      0.43       396\n",
      "           5       0.51      0.38      0.44       955\n",
      "           6       0.36      0.34      0.35       930\n",
      "           7       0.33      0.30      0.31       614\n",
      "           8       0.51      0.40      0.45       811\n",
>>>>>>> 55985c068808331f077cfdfb4c9d128a2d4c2c01
      "           9       0.37      0.55      0.44       530\n",
      "\n",
      "    accuracy                           0.40      6650\n",
      "   macro avg       0.41      0.39      0.39      6650\n",
      "weighted avg       0.41      0.40      0.40      6650\n",
      "\n",
      "*************************************\n",
      "*************************************\n",
      "Decision Tree:\n",
      "  Accuracy: 0.47\n",
      "              precision    recall  f1-score   support\n",
      "\n",
<<<<<<< HEAD
      "           0       0.59      0.60      0.59       691\n",
      "           1       0.44      0.45      0.44       843\n",
      "           2       0.35      0.30      0.33       397\n",
      "           3       0.27      0.25      0.26       483\n",
      "           4       0.66      0.50      0.57       396\n",
      "           5       0.57      0.54      0.55       955\n",
      "           6       0.35      0.40      0.38       930\n",
      "           7       0.37      0.35      0.36       614\n",
      "           8       0.61      0.59      0.60       811\n",
      "           9       0.52      0.63      0.57       530\n",
=======
      "           0       0.60      0.60      0.60       691\n",
      "           1       0.44      0.45      0.45       843\n",
      "           2       0.36      0.35      0.36       397\n",
      "           3       0.25      0.24      0.24       483\n",
      "           4       0.63      0.48      0.54       396\n",
      "           5       0.56      0.53      0.54       955\n",
      "           6       0.37      0.41      0.39       930\n",
      "           7       0.37      0.33      0.35       614\n",
      "           8       0.59      0.59      0.59       811\n",
      "           9       0.53      0.64      0.58       530\n",
>>>>>>> 55985c068808331f077cfdfb4c9d128a2d4c2c01
      "\n",
      "    accuracy                           0.47      6650\n",
      "   macro avg       0.47      0.46      0.46      6650\n",
      "weighted avg       0.48      0.47      0.47      6650\n",
      "\n",
      "*************************************\n",
      "*************************************\n",
      "Random Forest:\n",
      "  Accuracy: 0.55\n",
      "              precision    recall  f1-score   support\n",
      "\n",
<<<<<<< HEAD
      "           0       0.65      0.68      0.66       691\n",
      "           1       0.47      0.56      0.51       843\n",
      "           2       0.49      0.41      0.45       397\n",
      "           3       0.41      0.30      0.35       483\n",
      "           4       0.79      0.55      0.65       396\n",
      "           5       0.61      0.60      0.60       955\n",
      "           6       0.44      0.51      0.47       930\n",
      "           7       0.48      0.45      0.47       614\n",
      "           8       0.67      0.66      0.66       811\n",
      "           9       0.62      0.68      0.65       530\n",
=======
      "           0       0.68      0.68      0.68       691\n",
      "           1       0.47      0.55      0.51       843\n",
      "           2       0.48      0.41      0.45       397\n",
      "           3       0.41      0.29      0.34       483\n",
      "           4       0.78      0.57      0.66       396\n",
      "           5       0.61      0.58      0.60       955\n",
      "           6       0.43      0.50      0.46       930\n",
      "           7       0.48      0.47      0.48       614\n",
      "           8       0.66      0.65      0.66       811\n",
      "           9       0.59      0.67      0.63       530\n",
>>>>>>> 55985c068808331f077cfdfb4c9d128a2d4c2c01
      "\n",
      "    accuracy                           0.55      6650\n",
      "   macro avg       0.56      0.54      0.55      6650\n",
      "weighted avg       0.56      0.55      0.55      6650\n",
      "\n",
      "*************************************\n",
      "*************************************\n",
      "Support Vector Machine:\n",
      "  Accuracy: 0.57\n",
      "              precision    recall  f1-score   support\n",
      "\n",
      "           0       0.74      0.67      0.70       691\n",
<<<<<<< HEAD
      "           1       0.44      0.68      0.53       843\n",
      "           2       0.65      0.34      0.44       397\n",
      "           3       0.48      0.28      0.36       483\n",
      "           4       0.86      0.52      0.65       396\n",
      "           5       0.55      0.65      0.60       955\n",
      "           6       0.41      0.57      0.48       930\n",
      "           7       0.54      0.45      0.49       614\n",
=======
      "           1       0.44      0.67      0.53       843\n",
      "           2       0.66      0.34      0.45       397\n",
      "           3       0.47      0.27      0.34       483\n",
      "           4       0.86      0.52      0.65       396\n",
      "           5       0.55      0.65      0.60       955\n",
      "           6       0.41      0.57      0.47       930\n",
      "           7       0.53      0.45      0.49       614\n",
>>>>>>> 55985c068808331f077cfdfb4c9d128a2d4c2c01
      "           8       0.73      0.67      0.70       811\n",
      "           9       0.94      0.58      0.72       530\n",
      "\n",
      "    accuracy                           0.57      6650\n",
      "   macro avg       0.63      0.54      0.56      6650\n",
      "weighted avg       0.61      0.57      0.57      6650\n",
      "\n",
      "*************************************\n",
      "*************************************\n",
      "Naive Bayes:\n",
      "  Accuracy: 0.50\n",
      "              precision    recall  f1-score   support\n",
      "\n",
      "           0       0.61      0.67      0.64       691\n",
      "           1       0.64      0.46      0.54       843\n",
      "           2       0.89      0.16      0.27       397\n",
<<<<<<< HEAD
      "           3       0.73      0.09      0.16       483\n",
      "           4       0.97      0.17      0.30       396\n",
      "           5       0.50      0.69      0.58       955\n",
      "           6       0.31      0.77      0.44       930\n",
      "           7       0.49      0.20      0.29       614\n",
=======
      "           3       0.71      0.07      0.13       483\n",
      "           4       0.97      0.17      0.30       396\n",
      "           5       0.50      0.69      0.58       955\n",
      "           6       0.31      0.77      0.44       930\n",
      "           7       0.49      0.21      0.29       614\n",
>>>>>>> 55985c068808331f077cfdfb4c9d128a2d4c2c01
      "           8       0.59      0.69      0.64       811\n",
      "           9       0.92      0.46      0.62       530\n",
      "\n",
      "    accuracy                           0.50      6650\n",
      "   macro avg       0.66      0.44      0.44      6650\n",
      "weighted avg       0.61      0.50      0.48      6650\n",
      "\n",
      "*************************************\n",
      "*************************************\n"
     ]
    }
   ],
   "source": [
    "#model creation using tfidf vectorized data\n",
    "\n",
    "from sklearn.neighbors import KNeighborsClassifier\n",
    "from sklearn.tree import DecisionTreeClassifier\n",
    "from sklearn.ensemble import RandomForestClassifier\n",
    "from sklearn.svm import SVC\n",
    "from sklearn.naive_bayes import MultinomialNB\n",
    "from sklearn.metrics import accuracy_score, classification_report\n",
    "\n",
    "\n",
    "# Dictionary to store model names and corresponding models\n",
    "models = {\n",
    "    \"K-Nearest Neighbors\": KNeighborsClassifier(),\n",
    "    \"Decision Tree\": DecisionTreeClassifier(),\n",
    "    \"Random Forest\": RandomForestClassifier(),\n",
    "    \"Support Vector Machine\": SVC(),\n",
    "    \"Naive Bayes\": MultinomialNB(),\n",
    "}\n",
    "\n",
    "# Iterate over models\n",
    "for model_name, model in models.items():\n",
    "    # Train the model\n",
    "    model.fit(x_train_tfidf, y_train)\n",
    "    \n",
    "    # Predict on the test set\n",
    "    y_pred = model.predict(x_test_tfidf)\n",
    "    \n",
    "    # Calculate evaluation metrics\n",
    "    accuracy = accuracy_score(y_test, y_pred)\n",
    "    report = classification_report(y_test,y_pred)\n",
    "    \n",
    "    # Print the evaluation metrics\n",
    "    print(f\"{model_name}:\")\n",
    "    print(f\"  Accuracy: {accuracy:.2f}\")\n",
    "    print(report)\n",
    "    print(\"*************************************\")\n",
    "    print(\"*************************************\")\n",
    "    \n"
   ]
  },
  {
   "cell_type": "code",
   "execution_count": 22,
   "metadata": {},
   "outputs": [
    {
     "name": "stdout",
     "output_type": "stream",
     "text": [
      "K-Nearest Neighbors:\n",
      "  Accuracy: 0.40\n",
      "              precision    recall  f1-score   support\n",
      "\n",
      "           0       0.43      0.60      0.50       691\n",
      "           1       0.30      0.40      0.34       843\n",
      "           2       0.19      0.39      0.25       397\n",
      "           3       0.33      0.23      0.27       483\n",
      "           4       0.74      0.30      0.43       396\n",
      "           5       0.57      0.35      0.43       955\n",
      "           6       0.37      0.36      0.36       930\n",
      "           7       0.41      0.36      0.38       614\n",
      "           8       0.62      0.44      0.52       811\n",
      "           9       0.46      0.54      0.50       530\n",
      "\n",
      "    accuracy                           0.40      6650\n",
      "   macro avg       0.44      0.40      0.40      6650\n",
      "weighted avg       0.45      0.40      0.41      6650\n",
      "\n",
      "*************************************\n",
      "*************************************\n",
      "Decision Tree:\n",
      "  Accuracy: 0.49\n",
      "              precision    recall  f1-score   support\n",
      "\n",
      "           0       0.62      0.58      0.60       691\n",
      "           1       0.46      0.47      0.47       843\n",
      "           2       0.40      0.36      0.38       397\n",
      "           3       0.31      0.25      0.28       483\n",
      "           4       0.68      0.51      0.58       396\n",
      "           5       0.55      0.55      0.55       955\n",
      "           6       0.35      0.45      0.40       930\n",
      "           7       0.40      0.36      0.38       614\n",
      "           8       0.62      0.61      0.61       811\n",
      "           9       0.56      0.63      0.59       530\n",
      "\n",
      "    accuracy                           0.49      6650\n",
      "   macro avg       0.49      0.48      0.48      6650\n",
      "weighted avg       0.50      0.49      0.49      6650\n",
      "\n",
      "*************************************\n",
      "*************************************\n",
      "Random Forest:\n",
      "  Accuracy: 0.56\n",
      "              precision    recall  f1-score   support\n",
      "\n",
      "           0       0.68      0.67      0.68       691\n",
      "           1       0.48      0.58      0.53       843\n",
      "           2       0.45      0.43      0.44       397\n",
      "           3       0.43      0.32      0.37       483\n",
      "           4       0.80      0.55      0.65       396\n",
      "           5       0.63      0.58      0.60       955\n",
      "           6       0.43      0.49      0.46       930\n",
      "           7       0.48      0.46      0.47       614\n",
      "           8       0.65      0.67      0.66       811\n",
      "           9       0.62      0.67      0.64       530\n",
      "\n",
      "    accuracy                           0.56      6650\n",
      "   macro avg       0.57      0.54      0.55      6650\n",
      "weighted avg       0.56      0.56      0.56      6650\n",
      "\n",
      "*************************************\n",
      "*************************************\n",
      "Support Vector Machine:\n",
      "  Accuracy: 0.55\n",
      "              precision    recall  f1-score   support\n",
      "\n",
      "           0       0.73      0.65      0.69       691\n",
      "           1       0.38      0.70      0.49       843\n",
      "           2       0.63      0.31      0.42       397\n",
      "           3       0.47      0.28      0.35       483\n",
      "           4       0.89      0.44      0.59       396\n",
      "           5       0.57      0.61      0.59       955\n",
      "           6       0.42      0.55      0.47       930\n",
      "           7       0.55      0.45      0.49       614\n",
      "           8       0.72      0.65      0.68       811\n",
      "           9       0.95      0.55      0.69       530\n",
      "\n",
      "    accuracy                           0.55      6650\n",
      "   macro avg       0.63      0.52      0.55      6650\n",
      "weighted avg       0.60      0.55      0.55      6650\n",
      "\n",
      "*************************************\n",
      "*************************************\n",
      "Naive Bayes:\n",
      "  Accuracy: 0.56\n",
      "              precision    recall  f1-score   support\n",
      "\n",
      "           0       0.63      0.72      0.67       691\n",
      "           1       0.64      0.52      0.57       843\n",
      "           2       0.71      0.33      0.45       397\n",
      "           3       0.52      0.25      0.34       483\n",
      "           4       0.87      0.42      0.57       396\n",
      "           5       0.56      0.65      0.60       955\n",
      "           6       0.38      0.61      0.47       930\n",
      "           7       0.44      0.40      0.42       614\n",
      "           8       0.59      0.73      0.66       811\n",
      "           9       0.83      0.62      0.71       530\n",
      "\n",
      "    accuracy                           0.56      6650\n",
      "   macro avg       0.62      0.53      0.55      6650\n",
      "weighted avg       0.59      0.56      0.55      6650\n",
      "\n",
      "*************************************\n",
      "*************************************\n"
     ]
    }
   ],
   "source": [
    "#model creation using count vectorized data\n",
    "\n",
    "from sklearn.neighbors import KNeighborsClassifier\n",
    "from sklearn.tree import DecisionTreeClassifier\n",
    "from sklearn.ensemble import RandomForestClassifier\n",
    "from sklearn.svm import SVC\n",
    "from sklearn.naive_bayes import MultinomialNB\n",
    "from sklearn.metrics import accuracy_score, classification_report\n",
    "\n",
    "\n",
    "# Dictionary to store model names and corresponding models\n",
    "models = {\n",
    "    \"K-Nearest Neighbors\": KNeighborsClassifier(),\n",
    "    \"Decision Tree\": DecisionTreeClassifier(),\n",
    "    \"Random Forest\": RandomForestClassifier(),\n",
    "    \"Support Vector Machine\": SVC(),\n",
    "    \"Naive Bayes\": MultinomialNB(),\n",
    "}\n",
    "\n",
    "# Iterate over models\n",
    "for model_name, model in models.items():\n",
    "    # Train the model\n",
    "    model.fit(x_train_count, y_train)\n",
    "    \n",
    "    # Predict on the test set\n",
    "    y_pred = model.predict(x_test_count)\n",
    "    \n",
    "    # Calculate evaluation metrics\n",
    "    accuracy = accuracy_score(y_test, y_pred)\n",
    "    report = classification_report(y_test,y_pred)\n",
    "    \n",
    "    # Print the evaluation metrics\n",
    "    print(f\"{model_name}:\")\n",
    "    print(f\"  Accuracy: {accuracy:.2f}\")\n",
    "    print(report)\n",
    "    print(\"*************************************\")\n",
    "    print(\"*************************************\")\n",
    "    \n"
   ]
  },
  {
   "cell_type": "code",
   "execution_count": 23,
   "metadata": {},
   "outputs": [
    {
     "data": {
      "image/png": "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",
      "text/plain": [
       "<Figure size 1000x600 with 1 Axes>"
      ]
     },
     "metadata": {},
     "output_type": "display_data"
    }
   ],
   "source": [
    "import matplotlib.pyplot as plt\n",
    "\n",
    "# List to store model names and their accuracies\n",
    "model_names = []\n",
    "accuracies = []\n",
    "\n",
    "# Iterate over models\n",
    "for model_name, model in models.items():\n",
    "    # Train the model\n",
    "    model.fit(x_train_tfidf, y_train)\n",
    "    \n",
    "    # Predict on the test set\n",
    "    y_pred = model.predict(x_test_tfidf)\n",
    "    \n",
    "    # Calculate accuracy\n",
    "    accuracy = accuracy_score(y_test, y_pred)\n",
    "    \n",
    "    # Append model name and accuracy to lists\n",
    "    model_names.append(model_name)\n",
    "    accuracies.append(accuracy)\n",
    "\n",
    "# Plotting the bar graph\n",
    "plt.figure(figsize=(10, 6))\n",
    "plt.bar(model_names, accuracies)\n",
    "plt.ylabel('Accuracy')\n",
    "plt.xlabel('Model')\n",
    "plt.title('Model Accuracies using TF-IDF Vectorized Data')\n",
    "\n",
    "# Adding accuracy labels on bars\n",
    "for i in range(len(model_names)):\n",
    "    plt.text(i, accuracies[i], f'{accuracies[i]:.2f}', ha='center', va='bottom')\n",
    "\n",
    "plt.xticks(rotation=45, ha='right')  # Rotate x-axis labels for better readability\n",
    "plt.ylim(0, 1)  # Setting limit from 0 to 1 for accuracy\n",
    "plt.tight_layout()  # Adjust layout to prevent clipping labels\n",
    "plt.show()\n"
   ]
  },
  {
   "cell_type": "code",
   "execution_count": 24,
   "metadata": {},
   "outputs": [
    {
     "data": {
      "image/png": "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",
      "text/plain": [
       "<Figure size 1000x600 with 1 Axes>"
      ]
     },
     "metadata": {},
     "output_type": "display_data"
    }
   ],
   "source": [
    "import matplotlib.pyplot as plt\n",
    "\n",
    "# List to store model names and their accuracies\n",
    "model_names_count = []\n",
    "accuracies_count = []\n",
    "\n",
    "# Iterate over models\n",
    "for model_name, model in models.items():\n",
    "    # Train the model\n",
    "    model.fit(x_train_count, y_train)\n",
    "    \n",
    "    # Predict on the test set\n",
    "    y_pred = model.predict(x_test_count)\n",
    "    \n",
    "    # Calculate accuracy\n",
    "    accuracy = accuracy_score(y_test, y_pred)\n",
    "    \n",
    "    # Append model name and accuracy to lists\n",
    "    model_names_count.append(model_name)\n",
    "    accuracies_count.append(accuracy)\n",
    "\n",
    "# Plotting the bar graph\n",
    "plt.figure(figsize=(10, 6))\n",
    "plt.bar(model_names_count, accuracies_count)\n",
    "plt.ylabel('Accuracy')\n",
    "plt.xlabel('Model')\n",
    "plt.title('Model Accuracies using Count Vectorized Data')\n",
    "\n",
    "# Adding accuracy labels on bars\n",
    "for i in range(len(model_names_count)):\n",
    "    plt.text(i, accuracies_count[i], f'{accuracies_count[i]:.2f}', ha='center', va='bottom')\n",
    "\n",
    "plt.xticks(rotation=45, ha='right')  # Rotate x-axis labels for better readability\n",
    "plt.ylim(0, 1)  # Setting limit from 0 to 1 for accuracy\n",
    "plt.tight_layout()  # Adjust layout to prevent clipping labels\n",
    "plt.show()\n"
   ]
  },
  {
   "cell_type": "code",
   "execution_count": 25,
   "metadata": {},
   "outputs": [
    {
     "data": {
      "text/plain": [
       "['svm_model_tfidf.joblib']"
      ]
     },
     "execution_count": 25,
     "metadata": {},
     "output_type": "execute_result"
    }
   ],
   "source": [
    "#saving the model which have higher accuracy\n",
    "import joblib\n",
    "\n",
    "# Train the SVM model\n",
    "svm_model = SVC()\n",
    "svm_model.fit(x_train_tfidf, y_train)\n",
    "\n",
    "# Save the trained SVM model\n",
    "joblib.dump(svm_model, 'svm_model_tfidf.joblib')"
   ]
  },
  {
   "cell_type": "code",
   "execution_count": 26,
   "metadata": {},
   "outputs": [
    {
     "data": {
      "text/plain": [
       "['tfidf_vectorizer.joblib']"
      ]
     },
     "execution_count": 26,
     "metadata": {},
     "output_type": "execute_result"
    }
   ],
   "source": [
    "import joblib\n",
    "\n",
    "# Save TF-IDF vectorizer\n",
    "joblib.dump(tfidf_vectorizer, 'tfidf_vectorizer.joblib')\n",
    "\n"
   ]
  }
 ],
 "metadata": {
  "kernelspec": {
   "display_name": "Python 3",
   "language": "python",
   "name": "python3"
  },
  "language_info": {
   "codemirror_mode": {
    "name": "ipython",
    "version": 3
   },
   "file_extension": ".py",
   "mimetype": "text/x-python",
   "name": "python",
   "nbconvert_exporter": "python",
   "pygments_lexer": "ipython3",
   "version": "3.12.1"
  }
 },
 "nbformat": 4,
 "nbformat_minor": 2
}
