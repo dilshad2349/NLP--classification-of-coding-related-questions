{
 "cells": [
  {
   "cell_type": "code",
   "execution_count": 1,
   "metadata": {},
   "outputs": [],
   "source": [
    "import numpy as np\n",
    "import pandas as pd\n",
    "\n"
   ]
  },
  {
   "cell_type": "code",
   "execution_count": 2,
   "metadata": {},
   "outputs": [],
   "source": [
    "# Load the dataset\n",
    "\n",
    "df = pd.read_csv('output.csv')"
   ]
  },
  {
   "cell_type": "code",
   "execution_count": 3,
   "metadata": {},
   "outputs": [
    {
     "data": {
      "text/html": [
       "<div>\n",
       "<style scoped>\n",
       "    .dataframe tbody tr th:only-of-type {\n",
       "        vertical-align: middle;\n",
       "    }\n",
       "\n",
       "    .dataframe tbody tr th {\n",
       "        vertical-align: top;\n",
       "    }\n",
       "\n",
       "    .dataframe thead th {\n",
       "        text-align: right;\n",
       "    }\n",
       "</style>\n",
       "<table border=\"1\" class=\"dataframe\">\n",
       "  <thead>\n",
       "    <tr style=\"text-align: right;\">\n",
       "      <th></th>\n",
       "      <th>Title</th>\n",
       "      <th>Body</th>\n",
       "      <th>Tag</th>\n",
       "    </tr>\n",
       "  </thead>\n",
       "  <tbody>\n",
       "    <tr>\n",
       "      <th>0</th>\n",
       "      <td>Make a dynamic GridView to fit screen android</td>\n",
       "      <td>&lt;p&gt;I have a GridView that can contain NxM Cust...</td>\n",
       "      <td>android</td>\n",
       "    </tr>\n",
       "    <tr>\n",
       "      <th>1</th>\n",
       "      <td>image/video processing options</td>\n",
       "      <td>&lt;p&gt;I have a small 12 volt board camera that is...</td>\n",
       "      <td>python</td>\n",
       "    </tr>\n",
       "    <tr>\n",
       "      <th>2</th>\n",
       "      <td>Error while using HttpConnection</td>\n",
       "      <td>&lt;p&gt;&lt;strong&gt;QUESTION&lt;/strong&gt;&lt;/p&gt;\\n\\n&lt;p&gt;I am tr...</td>\n",
       "      <td>java</td>\n",
       "    </tr>\n",
       "    <tr>\n",
       "      <th>3</th>\n",
       "      <td>Marker icon not showing up but is clickable</td>\n",
       "      <td>&lt;p&gt;I've got the following code which gets info...</td>\n",
       "      <td>android</td>\n",
       "    </tr>\n",
       "    <tr>\n",
       "      <th>4</th>\n",
       "      <td>Swift - Trouble with SKAction sequence</td>\n",
       "      <td>&lt;p&gt;I'm trying to move my background image down...</td>\n",
       "      <td>ios</td>\n",
       "    </tr>\n",
       "  </tbody>\n",
       "</table>\n",
       "</div>"
      ],
      "text/plain": [
       "                                           Title  \\\n",
       "0  Make a dynamic GridView to fit screen android   \n",
       "1                 image/video processing options   \n",
       "2               Error while using HttpConnection   \n",
       "3    Marker icon not showing up but is clickable   \n",
       "4         Swift - Trouble with SKAction sequence   \n",
       "\n",
       "                                                Body      Tag  \n",
       "0  <p>I have a GridView that can contain NxM Cust...  android  \n",
       "1  <p>I have a small 12 volt board camera that is...   python  \n",
       "2  <p><strong>QUESTION</strong></p>\\n\\n<p>I am tr...     java  \n",
       "3  <p>I've got the following code which gets info...  android  \n",
       "4  <p>I'm trying to move my background image down...      ios  "
      ]
     },
     "execution_count": 3,
     "metadata": {},
     "output_type": "execute_result"
    }
   ],
   "source": [
    "# Display the first few rows of the dataset\n",
    "\n",
    "df.head()"
   ]
  },
  {
   "cell_type": "code",
   "execution_count": 4,
   "metadata": {},
   "outputs": [
    {
     "data": {
      "text/plain": [
       "(22164, 3)"
      ]
     },
     "execution_count": 4,
     "metadata": {},
     "output_type": "execute_result"
    }
   ],
   "source": [
    "# Display the shape of the dataset\n",
    "\n",
    "df.shape"
   ]
  },
  {
   "cell_type": "code",
   "execution_count": 5,
   "metadata": {},
   "outputs": [
    {
     "name": "stdout",
     "output_type": "stream",
     "text": [
      "<class 'pandas.core.frame.DataFrame'>\n",
      "RangeIndex: 22164 entries, 0 to 22163\n",
      "Data columns (total 3 columns):\n",
      " #   Column  Non-Null Count  Dtype \n",
      "---  ------  --------------  ----- \n",
      " 0   Title   22164 non-null  object\n",
      " 1   Body    22164 non-null  object\n",
      " 2   Tag     22164 non-null  object\n",
      "dtypes: object(3)\n",
      "memory usage: 519.6+ KB\n"
     ]
    }
   ],
   "source": [
    "# Display basic information about the dataset\n",
    "\n",
    "df.info()\n"
   ]
  },
  {
   "cell_type": "code",
   "execution_count": 6,
   "metadata": {},
   "outputs": [
    {
     "data": {
      "text/plain": [
       "Title    0\n",
       "Body     0\n",
       "Tag      0\n",
       "dtype: int64"
      ]
     },
     "execution_count": 6,
     "metadata": {},
     "output_type": "execute_result"
    }
   ],
   "source": [
    "# Display the count of missing values in each column\n",
    "df.isna().sum()\n"
   ]
  },
  {
   "cell_type": "code",
   "execution_count": 7,
   "metadata": {},
   "outputs": [
    {
     "data": {
      "text/plain": [
       "Tag\n",
       "javascript    3272\n",
       "java          3115\n",
       "c#            2723\n",
       "php           2680\n",
       "android       2498\n",
       "jquery        2099\n",
       "python        1726\n",
       "html          1527\n",
       "c++           1298\n",
       "ios           1226\n",
       "Name: count, dtype: int64"
      ]
     },
     "execution_count": 7,
     "metadata": {},
     "output_type": "execute_result"
    }
   ],
   "source": [
    "# Display the count of each unique value in the 'Tag' column\n",
    "\n",
    "df['Tag'].value_counts()\n"
   ]
  },
  {
   "cell_type": "code",
   "execution_count": 8,
   "metadata": {},
   "outputs": [
    {
     "data": {
      "image/png": "[encoded data removed]",
      "text/plain": [
       "<Figure size 1000x600 with 1 Axes>"
      ]
     },
     "metadata": {},
     "output_type": "display_data"
    }
   ],
   "source": [
    "#visualizing the Tag column\n",
    "\n",
    "import matplotlib.pyplot as plt\n",
    "\n",
    "# Count the occurrences of each unique tag\n",
    "tag_counts = df['Tag'].value_counts().sort_values()\n",
    "\n",
    "# Plot the tag counts in ascending order\n",
    "plt.figure(figsize=(10, 6))\n",
    "tag_counts.plot(kind='bar')\n",
    "plt.title('Tag Distribution (Ascending)')\n",
    "plt.xlabel('Tag')\n",
    "plt.ylabel('Count')\n",
    "plt.show()"
   ]
  },
  {
   "cell_type": "code",
   "execution_count": 9,
   "metadata": {},
   "outputs": [
    {
     "name": "stdout",
     "output_type": "stream",
     "text": [
      "                                           Title      Tag\n",
      "0  Make a dynamic GridView to fit screen android  android\n",
      "1                 image/video processing options   python\n",
      "2               Error while using HttpConnection     java\n",
      "3    Marker icon not showing up but is clickable  android\n",
      "4         Swift - Trouble with SKAction sequence      ios\n"
     ]
    }
   ],
   "source": [
    "# Drop the column 'body'\n",
    "df = df.drop(columns=['Body'])\n",
    "\n",
    "# Verify the column has been dropped by displaying the first few rows\n",
    "\n",
    "print(df.head())\n",
    "\n"
   ]
  },
  {
   "cell_type": "code",
   "execution_count": 17,
   "metadata": {},
   "outputs": [
    {
     "name": "stdout",
     "output_type": "stream",
     "text": [
      "                                      Title      Tag  Tag_encoded\n",
      "0  make dynamic gridview fit screen android  android            0\n",
      "1             image video processing option   python            9\n",
      "2                error using httpconnection     java            5\n",
      "3             marker icon showing clickable  android            0\n",
      "4           swift trouble skaction sequence      ios            4\n"
     ]
    }
   ],
   "source": [
    "#encode the target variable\n",
    "\n",
    "from sklearn.preprocessing import LabelEncoder\n",
    "label_encoder = LabelEncoder()\n",
    "\n",
    "# Encode the 'Tag' column\n",
    "df['Tag_encoded'] = label_encoder.fit_transform(df['Tag'])\n",
    "\n",
    "# Display the first few rows of the DataFrame\n",
    "print(df.head())"
   ]
  },
  {
   "cell_type": "code",
   "execution_count": 18,
   "metadata": {},
   "outputs": [
    {
     "name": "stderr",
     "output_type": "stream",
     "text": [
      "[nltk_data] Downloading package punkt to\n",
      "[nltk_data]     C:\\Users\\user\\AppData\\Roaming\\nltk_data...\n",
      "[nltk_data]   Package punkt is already up-to-date!\n",
      "[nltk_data] Downloading package stopwords to\n",
      "[nltk_data]     C:\\Users\\user\\AppData\\Roaming\\nltk_data...\n",
      "[nltk_data]   Package stopwords is already up-to-date!\n",
      "[nltk_data] Downloading package wordnet to\n",
      "[nltk_data]     C:\\Users\\user\\AppData\\Roaming\\nltk_data...\n",
      "[nltk_data]   Package wordnet is already up-to-date!\n"
     ]
    },
    {
     "data": {
      "text/html": [
       "<div>\n",
       "<style scoped>\n",
       "    .dataframe tbody tr th:only-of-type {\n",
       "        vertical-align: middle;\n",
       "    }\n",
       "\n",
       "    .dataframe tbody tr th {\n",
       "        vertical-align: top;\n",
       "    }\n",
       "\n",
       "    .dataframe thead th {\n",
       "        text-align: right;\n",
       "    }\n",
       "</style>\n",
       "<table border=\"1\" class=\"dataframe\">\n",
       "  <thead>\n",
       "    <tr style=\"text-align: right;\">\n",
       "      <th></th>\n",
       "      <th>Title</th>\n",
       "      <th>Tag</th>\n",
       "      <th>Tag_encoded</th>\n",
       "    </tr>\n",
       "  </thead>\n",
       "  <tbody>\n",
       "    <tr>\n",
       "      <th>0</th>\n",
       "      <td>make dynamic gridview fit screen android</td>\n",
       "      <td>android</td>\n",
       "      <td>0</td>\n",
       "    </tr>\n",
       "    <tr>\n",
       "      <th>1</th>\n",
       "      <td>image video processing option</td>\n",
       "      <td>python</td>\n",
       "      <td>9</td>\n",
       "    </tr>\n",
       "    <tr>\n",
       "      <th>2</th>\n",
       "      <td>error using httpconnection</td>\n",
       "      <td>java</td>\n",
       "      <td>5</td>\n",
       "    </tr>\n",
       "    <tr>\n",
       "      <th>3</th>\n",
       "      <td>marker icon showing clickable</td>\n",
       "      <td>android</td>\n",
       "      <td>0</td>\n",
       "    </tr>\n",
       "    <tr>\n",
       "      <th>4</th>\n",
       "      <td>swift trouble skaction sequence</td>\n",
       "      <td>ios</td>\n",
       "      <td>4</td>\n",
       "    </tr>\n",
       "    <tr>\n",
       "      <th>...</th>\n",
       "      <td>...</td>\n",
       "      <td>...</td>\n",
       "      <td>...</td>\n",
       "    </tr>\n",
       "    <tr>\n",
       "      <th>22159</th>\n",
       "      <td>remove image wordpress r feed</td>\n",
       "      <td>php</td>\n",
       "      <td>8</td>\n",
       "    </tr>\n",
       "    <tr>\n",
       "      <th>22160</th>\n",
       "      <td>java array bound error bound</td>\n",
       "      <td>java</td>\n",
       "      <td>5</td>\n",
       "    </tr>\n",
       "    <tr>\n",
       "      <th>22161</th>\n",
       "      <td>refresh div jquery ajax call</td>\n",
       "      <td>html</td>\n",
       "      <td>3</td>\n",
       "    </tr>\n",
       "    <tr>\n",
       "      <th>22162</th>\n",
       "      <td>parallel recursive function python</td>\n",
       "      <td>python</td>\n",
       "      <td>9</td>\n",
       "    </tr>\n",
       "    <tr>\n",
       "      <th>22163</th>\n",
       "      <td>force reload anything change j user browsing p...</td>\n",
       "      <td>html</td>\n",
       "      <td>3</td>\n",
       "    </tr>\n",
       "  </tbody>\n",
       "</table>\n",
       "<p>22164 rows × 3 columns</p>\n",
       "</div>"
      ],
      "text/plain": [
       "                                                   Title      Tag  Tag_encoded\n",
       "0               make dynamic gridview fit screen android  android            0\n",
       "1                          image video processing option   python            9\n",
       "2                             error using httpconnection     java            5\n",
       "3                          marker icon showing clickable  android            0\n",
       "4                        swift trouble skaction sequence      ios            4\n",
       "...                                                  ...      ...          ...\n",
       "22159                      remove image wordpress r feed      php            8\n",
       "22160                       java array bound error bound     java            5\n",
       "22161                       refresh div jquery ajax call     html            3\n",
       "22162                 parallel recursive function python   python            9\n",
       "22163  force reload anything change j user browsing p...     html            3\n",
       "\n",
       "[22164 rows x 3 columns]"
      ]
     },
     "execution_count": 18,
     "metadata": {},
     "output_type": "execute_result"
    }
   ],
   "source": [
    "import nltk\n",
    "from nltk.tokenize import word_tokenize\n",
    "from nltk.corpus import stopwords\n",
    "from nltk.stem import WordNetLemmatizer\n",
    "import re\n",
    "\n",
    "# Download necessary resources for nltk\n",
    "nltk.download('punkt')\n",
    "nltk.download('stopwords')\n",
    "nltk.download('wordnet')\n",
    "\n",
    "# Initialize WordNet Lemmatizer\n",
    "lemmatizer = WordNetLemmatizer()\n",
    "\n",
    "# Define a function for preprocessing a single text\n",
    "def preprocess_text(text):\n",
    "    \n",
    "    # Remove HTML tags\n",
    "    text = re.sub(r'<[^>]+>', '', text)\n",
    "    \n",
    "    # Remove special characters and digits\n",
    "    text = re.sub(r'[^a-zA-Z]', ' ', text)\n",
    "    \n",
    "    # Tokenization\n",
    "    tokens = word_tokenize(text.lower())\n",
    "    \n",
    "    # Remove stopwords\n",
    "    stop_words = set(stopwords.words('english'))\n",
    "    tokens = [token for token in tokens if token not in stop_words]\n",
    "    \n",
    "    # Lemmatization\n",
    "    tokens = [lemmatizer.lemmatize(token) for token in tokens]\n",
    "    \n",
    "    # Join tokens back into a string\n",
    "    preprocessed_text = ' '.join(tokens)\n",
    "    \n",
    "    return preprocessed_text\n",
    "\n",
    "# Apply preprocessing to the 'Title' column\n",
    "df['Title'] = df['Title'].apply(preprocess_text)\n",
    "\n",
    "# Display the preprocessed titles\n",
    "df\n"
   ]
  },
  {
   "cell_type": "code",
   "execution_count": 19,
   "metadata": {},
   "outputs": [],
   "source": [
    "#splitting the data into training data and testing data\n",
    "\n",
    "from sklearn.model_selection import train_test_split\n",
    "x_train,x_test,y_train,y_test = train_test_split(df['Title'],df['Tag_encoded'],random_state=42,test_size=0.3)"
   ]
  },
  {
   "cell_type": "code",
   "execution_count": 20,
   "metadata": {},
   "outputs": [
    {
     "data": {
      "text/plain": [
       "20615    putting button navigationitem titleview progra...\n",
       "8361                         get list control groupbox wpf\n",
       "19724    use html section id contact semantically corre...\n",
       "20035          numba error notimplementederror unable cast\n",
       "17627                  access html form element javascript\n",
       "                               ...                        \n",
       "11964             would search certain word character java\n",
       "21575                         convert image url hex string\n",
       "5390                 retrieve property value array literal\n",
       "860                       getlongarrayextra returning null\n",
       "15795       jquery form validator showing validate functon\n",
       "Name: Title, Length: 15514, dtype: object"
      ]
     },
     "execution_count": 20,
     "metadata": {},
     "output_type": "execute_result"
    }
   ],
   "source": [
    "x_train"
   ]
  },
  {
   "cell_type": "code",
   "execution_count": 21,
   "metadata": {},
   "outputs": [],
   "source": [
    "# Import the TfidfVectorizer class from scikit-learn\n",
    "\n",
    "from sklearn.feature_extraction.text import TfidfVectorizer\n",
    "\n",
    "# Initialize a TfidfVectorizer object\n",
    "\n",
    "tfidf_vectorizer = TfidfVectorizer()\n"
   ]
  },
  {
   "cell_type": "code",
   "execution_count": 22,
   "metadata": {},
   "outputs": [],
   "source": [
    "# Transform the training data (x_train) into TF-IDF features\n",
    "\n",
    "x_train_tfidf = tfidf_vectorizer.fit_transform(x_train)\n",
    "\n",
    "# Transform the testing data (x_test) using the same vocabulary learned from the training data\n",
    "\n",
    "x_test_tfidf = tfidf_vectorizer.transform(x_test)\n",
    "\n",
    "\n"
   ]
  },
  {
   "cell_type": "code",
   "execution_count": 23,
   "metadata": {},
   "outputs": [
    {
     "name": "stdout",
     "output_type": "stream",
     "text": [
      "K-Nearest Neighbors:\n",
      "  Accuracy: 0.40\n",
      "              precision    recall  f1-score   support\n",
      "\n",
      "           0       0.37      0.59      0.46       691\n",
      "           1       0.39      0.45      0.42       843\n",
      "           2       0.39      0.34      0.37       397\n",
      "           3       0.26      0.23      0.24       483\n",
      "           4       0.66      0.32      0.43       396\n",
      "           5       0.51      0.38      0.44       955\n",
      "           6       0.36      0.34      0.35       930\n",
      "           7       0.33      0.30      0.31       614\n",
      "           8       0.51      0.40      0.45       811\n",
      "           9       0.37      0.55      0.44       530\n",
      "\n",
      "    accuracy                           0.40      6650\n",
      "   macro avg       0.41      0.39      0.39      6650\n",
      "weighted avg       0.41      0.40      0.40      6650\n",
      "\n",
      "*************************************\n",
      "*************************************\n",
      "Decision Tree:\n",
      "  Accuracy: 0.47\n",
      "              precision    recall  f1-score   support\n",
      "\n",
      "           0       0.60      0.60      0.60       691\n",
      "           1       0.44      0.45      0.45       843\n",
      "           2       0.36      0.35      0.36       397\n",
      "           3       0.25      0.24      0.24       483\n",
      "           4       0.63      0.48      0.54       396\n",
      "           5       0.56      0.53      0.54       955\n",
      "           6       0.37      0.41      0.39       930\n",
      "           7       0.37      0.33      0.35       614\n",
      "           8       0.59      0.59      0.59       811\n",
      "           9       0.53      0.64      0.58       530\n",
      "\n",
      "    accuracy                           0.47      6650\n",
      "   macro avg       0.47      0.46      0.46      6650\n",
      "weighted avg       0.48      0.47      0.47      6650\n",
      "\n",
      "*************************************\n",
      "*************************************\n",
      "Random Forest:\n",
      "  Accuracy: 0.55\n",
      "              precision    recall  f1-score   support\n",
      "\n",
      "           0       0.68      0.68      0.68       691\n",
      "           1       0.47      0.55      0.51       843\n",
      "           2       0.48      0.41      0.45       397\n",
      "           3       0.41      0.29      0.34       483\n",
      "           4       0.78      0.57      0.66       396\n",
      "           5       0.61      0.58      0.60       955\n",
      "           6       0.43      0.50      0.46       930\n",
      "           7       0.48      0.47      0.48       614\n",
      "           8       0.66      0.65      0.66       811\n",
      "           9       0.59      0.67      0.63       530\n",
      "\n",
      "    accuracy                           0.55      6650\n",
      "   macro avg       0.56      0.54      0.55      6650\n",
      "weighted avg       0.56      0.55      0.55      6650\n",
      "\n",
      "*************************************\n",
      "*************************************\n",
      "Support Vector Machine:\n",
      "  Accuracy: 0.57\n",
      "              precision    recall  f1-score   support\n",
      "\n",
      "           0       0.74      0.67      0.70       691\n",
      "           1       0.44      0.67      0.53       843\n",
      "           2       0.66      0.34      0.45       397\n",
      "           3       0.47      0.27      0.34       483\n",
      "           4       0.86      0.52      0.65       396\n",
      "           5       0.55      0.65      0.60       955\n",
      "           6       0.41      0.57      0.47       930\n",
      "           7       0.53      0.45      0.49       614\n",
      "           8       0.73      0.67      0.70       811\n",
      "           9       0.94      0.58      0.72       530\n",
      "\n",
      "    accuracy                           0.57      6650\n",
      "   macro avg       0.63      0.54      0.56      6650\n",
      "weighted avg       0.61      0.57      0.57      6650\n",
      "\n",
      "*************************************\n",
      "*************************************\n",
      "Naive Bayes:\n",
      "  Accuracy: 0.50\n",
      "              precision    recall  f1-score   support\n",
      "\n",
      "           0       0.61      0.67      0.64       691\n",
      "           1       0.64      0.46      0.54       843\n",
      "           2       0.89      0.16      0.27       397\n",
      "           3       0.71      0.07      0.13       483\n",
      "           4       0.97      0.17      0.30       396\n",
      "           5       0.50      0.69      0.58       955\n",
      "           6       0.31      0.77      0.44       930\n",
      "           7       0.49      0.21      0.29       614\n",
      "           8       0.59      0.69      0.64       811\n",
      "           9       0.92      0.46      0.62       530\n",
      "\n",
      "    accuracy                           0.50      6650\n",
      "   macro avg       0.66      0.44      0.44      6650\n",
      "weighted avg       0.61      0.50      0.48      6650\n",
      "\n",
      "*************************************\n",
      "*************************************\n"
     ]
    }
   ],
   "source": [
    "#model creation\n",
    "\n",
    "from sklearn.neighbors import KNeighborsClassifier\n",
    "from sklearn.tree import DecisionTreeClassifier\n",
    "from sklearn.ensemble import RandomForestClassifier\n",
    "from sklearn.svm import SVC\n",
    "from sklearn.naive_bayes import MultinomialNB\n",
    "from sklearn.metrics import accuracy_score, classification_report\n",
    "\n",
    "\n",
    "# Dictionary to store model names and corresponding models\n",
    "models = {\n",
    "    \"K-Nearest Neighbors\": KNeighborsClassifier(),\n",
    "    \"Decision Tree\": DecisionTreeClassifier(),\n",
    "    \"Random Forest\": RandomForestClassifier(),\n",
    "    \"Support Vector Machine\": SVC(),\n",
    "    \"Naive Bayes\": MultinomialNB(),\n",
    "}\n",
    "\n",
    "# Iterate over models\n",
    "for model_name, model in models.items():\n",
    "    # Train the model\n",
    "    model.fit(x_train_tfidf, y_train)\n",
    "    \n",
    "    # Predict on the test set\n",
    "    y_pred = model.predict(x_test_tfidf)\n",
    "    \n",
    "    # Calculate evaluation metrics\n",
    "    accuracy = accuracy_score(y_test, y_pred)\n",
    "    report = classification_report(y_test,y_pred)\n",
    "    \n",
    "    # Print the evaluation metrics\n",
    "    print(f\"{model_name}:\")\n",
    "    print(f\"  Accuracy: {accuracy:.2f}\")\n",
    "    print(report)\n",
    "    print(\"*************************************\")\n",
    "    print(\"*************************************\")\n",
    "    \n"
   ]
  },
  {
   "cell_type": "code",
   "execution_count": null,
   "metadata": {},
   "outputs": [],
   "source": [
    "\n"
   ]
  },
  {
   "cell_type": "code",
   "execution_count": null,
   "metadata": {},
   "outputs": [],
   "source": []
  }
 ],
 "metadata": {
  "kernelspec": {
   "display_name": "Python 3",
   "language": "python",
   "name": "python3"
  },
  "language_info": {
   "codemirror_mode": {
    "name": "ipython",
    "version": 3
   },
   "file_extension": ".py",
   "mimetype": "text/x-python",
   "name": "python",
   "nbconvert_exporter": "python",
   "pygments_lexer": "ipython3",
   "version": "3.12.1"
  }
 },
 "nbformat": 4,
 "nbformat_minor": 2
}
